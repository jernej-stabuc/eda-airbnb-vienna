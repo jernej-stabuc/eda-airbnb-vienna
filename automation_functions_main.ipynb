{
 "cells": [
  {
   "cell_type": "code",
   "execution_count": 2,
   "metadata": {},
   "outputs": [],
   "source": [
    "import os\n",
    "os.system('python csv_import_functions.py')\n",
    "from csv_import_functions import *"
   ]
  },
  {
   "cell_type": "code",
   "execution_count": 3,
   "metadata": {},
   "outputs": [
    {
     "name": "stdout",
     "output_type": "stream",
     "text": [
      "calendar_07_06.csv\n",
      "calendar_10_03.csv\n",
      "calendar_11_09.csv\n",
      "Opened database successfully\n",
      "calendar_07_06 was created successfully\n",
      "File opened in memory\n",
      "File copied to db\n",
      "Table calendar_07_06 immported to db completed\n",
      "Opened database successfully\n",
      "calendar_10_03 was created successfully\n",
      "File opened in memory\n",
      "File copied to db\n",
      "Table calendar_10_03 immported to db completed\n",
      "Opened database successfully\n",
      "calendar_11_09 was created successfully\n",
      "File opened in memory\n",
      "File copied to db\n",
      "Table calendar_11_09 immported to db completed\n"
     ]
    }
   ],
   "source": [
    "#main\n",
    "data_path = os.getcwd() + '/' + 'csv' + '/'\n",
    "\n",
    "csv_files = csv_files()\n",
    "df = dataset_directory(csv_files, data_path)\n",
    "\n",
    "#db settings\n",
    "host = 'database-airbnb.cl4bob5uux9z.us-west-1.rds.amazonaws.com'\n",
    "dbname= 'postgres'\n",
    "user ='postgres'\n",
    "password ='geslozapostgre123'\n",
    "\n",
    "for k in csv_files:\n",
    "\n",
    "    #call dataframe\n",
    "    dataframe = df[k]\n",
    "\n",
    "    #clean tbl name\n",
    "    tbl_name = clean_tbl_name(k)\n",
    "\n",
    "    #clean column name\n",
    "    col_str, dataframe.columns = clean_colname(dataframe)\n",
    "\n",
    "    #upload data to db\n",
    "    upload_to_db(host, \n",
    "        dbname, \n",
    "        user, \n",
    "        password, \n",
    "        tbl_name, \n",
    "        col_str, \n",
    "        file=k, \n",
    "        dataframe=dataframe, \n",
    "        dataframe_columns = dataframe.columns)\n",
    "    "
   ]
  }
 ],
 "metadata": {
  "kernelspec": {
   "display_name": "Python 3",
   "language": "python",
   "name": "python3"
  },
  "language_info": {
   "codemirror_mode": {
    "name": "ipython",
    "version": 3
   },
   "file_extension": ".py",
   "mimetype": "text/x-python",
   "name": "python",
   "nbconvert_exporter": "python",
   "pygments_lexer": "ipython3",
   "version": "3.10.6"
  },
  "orig_nbformat": 4,
  "vscode": {
   "interpreter": {
    "hash": "52634da84371cba311ea128a5ea7cdc41ff074b781779e754b270ff9f8153cee"
   }
  }
 },
 "nbformat": 4,
 "nbformat_minor": 2
}
