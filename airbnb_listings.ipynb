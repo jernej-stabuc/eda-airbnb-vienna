{
 "cells": [
  {
   "cell_type": "code",
   "execution_count": 1,
   "metadata": {},
   "outputs": [],
   "source": [
    "import pandas as pd\n",
    "import numpy as np\n",
    "from functools import reduce\n",
    "import os\n",
    "import psycopg2"
   ]
  },
  {
   "cell_type": "code",
   "execution_count": 2,
   "metadata": {},
   "outputs": [],
   "source": [
    "def get_data(path):\n",
    "    try:\n",
    "        data = pd.read_csv(path)\n",
    "        df = pd.DataFrame(data)\n",
    "    except Exception as e:\n",
    "        print(e)\n",
    "    return df"
   ]
  },
  {
   "cell_type": "code",
   "execution_count": 3,
   "metadata": {},
   "outputs": [
    {
     "data": {
      "text/plain": [
       "11452"
      ]
     },
     "execution_count": 3,
     "metadata": {},
     "output_type": "execute_result"
    }
   ],
   "source": [
    "#data frames original and copy date 10.03\n",
    "listings_10_03_summary = get_data('../airbnb_data_vienna/10_03/summary_visualization/listings.csv')\n",
    "listings_10_03 = get_data('../airbnb_data_vienna/10_03/listings.csv')\n",
    "listings_10_03['id'].count()"
   ]
  },
  {
   "cell_type": "code",
   "execution_count": 4,
   "metadata": {},
   "outputs": [
    {
     "data": {
      "text/plain": [
       "11797"
      ]
     },
     "execution_count": 4,
     "metadata": {},
     "output_type": "execute_result"
    }
   ],
   "source": [
    "#data frames original and copy date 07.06\n",
    "listings_11_09_summary = get_data('../airbnb_data_vienna/11_09/summary_visualization/listings.csv')\n",
    "listings_11_09 = get_data('../airbnb_data_vienna/11_09/listings.csv')\n",
    "listings_11_09_summary['id'].count()"
   ]
  },
  {
   "cell_type": "code",
   "execution_count": 5,
   "metadata": {},
   "outputs": [
    {
     "data": {
      "text/plain": [
       "11274"
      ]
     },
     "execution_count": 5,
     "metadata": {},
     "output_type": "execute_result"
    }
   ],
   "source": [
    "#data frames original and copy date 11.09\n",
    "listings_07_06_summary = get_data('../airbnb_data_vienna/07_06/summary_visualization/listings.csv')\n",
    "listings_07_06 = get_data('../airbnb_data_vienna/07_06/listings.csv')\n",
    "listings_07_06_summary['id'].count()"
   ]
  },
  {
   "cell_type": "code",
   "execution_count": 6,
   "metadata": {},
   "outputs": [],
   "source": [
    "# Merge summary 10_03 with detailed listing for host_response_time, host_response_rate, host_accceptance_rate,\n",
    "# host_ist_superhost\n",
    "listings_10_03_columns = ['id', 'host_response_time', 'host_url', 'host_response_rate', 'host_acceptance_rate', 'host_is_superhost', 'property_type', 'accommodates', \n",
    "'review_scores_rating', 'review_scores_accuracy', 'review_scores_cleanliness', 'review_scores_checkin', 'review_scores_communication', 'review_scores_location',\n",
    "'review_scores_value', 'instant_bookable']\n",
    "listings_10_03_merged_org = listings_10_03_summary.merge(listings_10_03[listings_10_03_columns], on='id', how='left')\n",
    "listings_10_03_merged = listings_10_03_merged_org.copy()"
   ]
  },
  {
   "cell_type": "code",
   "execution_count": 7,
   "metadata": {},
   "outputs": [
    {
     "data": {
      "text/plain": [
       "Index(['id', 'name', 'host_id', 'host_name', 'neighbourhood_group',\n",
       "       'neighbourhood', 'latitude', 'longitude', 'room_type', 'price',\n",
       "       'minimum_nights', 'number_of_reviews', 'last_review',\n",
       "       'reviews_per_month', 'calculated_host_listings_count',\n",
       "       'availability_365', 'number_of_reviews_ltm', 'license',\n",
       "       'host_response_time', 'host_url', 'host_response_rate',\n",
       "       'host_acceptance_rate', 'host_is_superhost', 'property_type',\n",
       "       'accommodates', 'review_scores_rating', 'review_scores_accuracy',\n",
       "       'review_scores_cleanliness', 'review_scores_checkin',\n",
       "       'review_scores_communication', 'review_scores_location',\n",
       "       'review_scores_value', 'instant_bookable'],\n",
       "      dtype='object')"
      ]
     },
     "execution_count": 7,
     "metadata": {},
     "output_type": "execute_result"
    }
   ],
   "source": [
    "# Merge summary 07_06 with detailed listing for host_response_time, host_response_rate, host_accceptance_rate,\n",
    "# host_ist_superhost...\n",
    "listings_07_06_columns = ['id', 'host_response_time', 'host_url', 'host_response_rate', 'host_acceptance_rate', 'host_is_superhost', 'property_type', 'accommodates', \n",
    "'review_scores_rating', 'review_scores_accuracy', 'review_scores_cleanliness', 'review_scores_checkin', 'review_scores_communication', 'review_scores_location',\n",
    "'review_scores_value', 'instant_bookable']\n",
    "listings_07_06_merged_org = listings_07_06_summary.merge(listings_07_06[listings_07_06_columns], on='id', how='left')\n",
    "listings_07_06_merged = listings_07_06_merged_org.copy()\n",
    "listings_07_06_merged.columns"
   ]
  },
  {
   "cell_type": "code",
   "execution_count": 8,
   "metadata": {},
   "outputs": [
    {
     "data": {
      "text/plain": [
       "11797"
      ]
     },
     "execution_count": 8,
     "metadata": {},
     "output_type": "execute_result"
    }
   ],
   "source": [
    "# Merge summary 11_09 with detailed listing for host_response_time, host_response_rate, host_accceptance_rate,\n",
    "# host_ist_superhost...\n",
    "listings_11_09_columns = ['id', 'host_response_time', 'host_url', 'host_response_rate', 'host_acceptance_rate', 'host_is_superhost', 'property_type', 'accommodates', \n",
    "'review_scores_rating', 'review_scores_accuracy', 'review_scores_cleanliness', 'review_scores_checkin', 'review_scores_communication', 'review_scores_location',\n",
    "'review_scores_value', 'instant_bookable']\n",
    "listings_11_09_merged_org = listings_11_09_summary.merge(listings_11_09[listings_11_09_columns], on='id', how='left')\n",
    "listings_11_09_merged = listings_11_09_merged_org.copy()\n",
    "listings_11_09_merged['id'].count()"
   ]
  },
  {
   "cell_type": "code",
   "execution_count": 9,
   "metadata": {},
   "outputs": [
    {
     "data": {
      "text/plain": [
       "Index(['id', 'name', 'host_id', 'host_name', 'neighbourhood', 'latitude',\n",
       "       'longitude', 'room_type', 'price', 'minimum_nights',\n",
       "       'number_of_reviews', 'last_review', 'reviews_per_month',\n",
       "       'calculated_host_listings_count', 'availability_365',\n",
       "       'number_of_reviews_ltm', 'host_response_time', 'host_url',\n",
       "       'host_response_rate', 'host_acceptance_rate', 'host_is_superhost',\n",
       "       'property_type', 'accommodates', 'review_scores_rating',\n",
       "       'review_scores_accuracy', 'review_scores_cleanliness',\n",
       "       'review_scores_checkin', 'review_scores_communication',\n",
       "       'review_scores_location', 'review_scores_value', 'instant_bookable'],\n",
       "      dtype='object')"
      ]
     },
     "execution_count": 9,
     "metadata": {},
     "output_type": "execute_result"
    }
   ],
   "source": [
    "#merge all dataframes into one listing, drop duplicates\n",
    "data_frames_to_merge = [listings_10_03_merged, listings_07_06_merged, listings_11_09_merged]\n",
    "df_listings_merged = reduce(lambda left,right: pd.merge(left,right, on=['id'], how='outer', suffixes=('', '_DROP')), data_frames_to_merge).filter(regex='^(?!.*_DROP)')\n",
    "df_listings_merged_copy = df_listings_merged.copy()\n",
    "df_listings_merged_copy = df_listings_merged_copy.drop(columns=['neighbourhood_group', 'license'])\n",
    "df_listings_merged_copy.columns"
   ]
  },
  {
   "cell_type": "code",
   "execution_count": 10,
   "metadata": {},
   "outputs": [
    {
     "data": {
      "text/plain": [
       "'list_ings'"
      ]
     },
     "execution_count": 10,
     "metadata": {},
     "output_type": "execute_result"
    }
   ],
   "source": [
    "#clean table names, lower case letters, remove all white spaces - optional\n",
    "file = 'list ings$'\n",
    "clean_tbl_name = file.lower().replace(\" \", \"_\").replace(\"?\", \"\") \\\n",
    "    .replace(\"-\", \"_\").replace(r\"/\", \"_\").replace(\"\\\\\", \"_\").replace(\"%\", \"\") \\\n",
    "        .replace(\")\", \"\").replace(r\"(\", \"\").replace(\"$\", \"\")\n",
    "clean_tbl_name"
   ]
  },
  {
   "cell_type": "code",
   "execution_count": 11,
   "metadata": {},
   "outputs": [
    {
     "data": {
      "text/plain": [
       "Index(['id', 'name', 'host_id', 'host_name', 'neighbourhood', 'latitude',\n",
       "       'longitude', 'room_type', 'price', 'minimum_nights',\n",
       "       'number_of_reviews', 'last_review', 'reviews_per_month',\n",
       "       'calculated_host_listings_count', 'availability_365',\n",
       "       'number_of_reviews_ltm', 'host_response_time', 'host_url',\n",
       "       'host_response_rate', 'host_acceptance_rate', 'host_is_superhost',\n",
       "       'property_type', 'accommodates', 'review_scores_rating',\n",
       "       'review_scores_accuracy', 'review_scores_cleanliness',\n",
       "       'review_scores_checkin', 'review_scores_communication',\n",
       "       'review_scores_location', 'review_scores_value', 'instant_bookable'],\n",
       "      dtype='object')"
      ]
     },
     "execution_count": 11,
     "metadata": {},
     "output_type": "execute_result"
    }
   ],
   "source": [
    "#clean header names, lower case letters, remove all white spaces\n",
    "df_listings_merged_copy.columns = [x.lower().replace(\" \", \"_\").replace(\"?\", \"\") \\\n",
    "    .replace(\"-\", \"_\").replace(r\"/\", \"_\").replace(\"\\\\\", \"_\").replace(\"%\", \"\") \\\n",
    "        .replace(\")\", \"\").replace(r\"(\", \"\").replace(\"$\", \"\") for x in df_listings_merged_copy.columns]\n",
    "df_listings_merged_copy.columns"
   ]
  },
  {
   "cell_type": "code",
   "execution_count": 12,
   "metadata": {},
   "outputs": [
    {
     "name": "stdout",
     "output_type": "stream",
     "text": [
      "False\n",
      "0         0\n",
      "1         3\n",
      "2         3\n",
      "3        12\n",
      "4         3\n",
      "         ..\n",
      "11447     0\n",
      "11448     0\n",
      "11449     0\n",
      "11450     0\n",
      "11451     9\n",
      "Length: 11452, dtype: int64\n"
     ]
    }
   ],
   "source": [
    "#count null values and drop rows with multiple null values\n",
    "df_listings_merged_copy['null count'] = df_listings_merged_copy.isnull().sum(axis=1)\n",
    "mask = (df_listings_merged_copy['null count'] >= 15)\n",
    "df_listings_merged_copy.drop(df_listings_merged_copy[mask].index, inplace=True)\n",
    "print(df_listings_merged_copy['number_of_reviews_ltm'].isnull().any())\n",
    "print(df_listings_merged_copy.isnull().sum(axis=1))"
   ]
  },
  {
   "cell_type": "code",
   "execution_count": 13,
   "metadata": {},
   "outputs": [
    {
     "name": "stdout",
     "output_type": "stream",
     "text": [
      "False\n"
     ]
    }
   ],
   "source": [
    "#fill null values reviews_per_month\n",
    "df_listings_merged_na = df_listings_merged_copy.copy()\n",
    "df_listings_merged_na['reviews_per_month'] = df_listings_merged_na['reviews_per_month'].fillna(0)\n",
    "print(df_listings_merged_na['availability_365'].isnull().any())"
   ]
  },
  {
   "cell_type": "code",
   "execution_count": 14,
   "metadata": {},
   "outputs": [
    {
     "data": {
      "text/plain": [
       "array(['100%', nan, '99%', '79%', '74%', '93%', '30%', '92%', '0%', '59%',\n",
       "       '98%', '96%', '50%', '95%', '83%', '40%', '88%', '97%', '94%',\n",
       "       '72%', '39%', '84%', '91%', '28%', '78%', '75%', '20%', '87%',\n",
       "       '37%', '25%', '44%', '57%', '33%', '21%', '82%', '56%', '63%',\n",
       "       '80%', '85%', '46%', '69%', '86%', '67%', '71%', '64%', '45%',\n",
       "       '90%', '65%', '54%', '38%', '31%', '29%', '18%', '61%', '89%',\n",
       "       '77%', '70%', '55%', '6%', '47%', '36%', '51%', '17%', '81%',\n",
       "       '76%', '60%', '58%', '22%', '49%', '66%', '27%', '42%', '52%',\n",
       "       '53%', '73%', '15%', '14%', '10%', '11%', '43%', '62%', '13%',\n",
       "       '48%', '24%', '26%', '41%', '68%', '12%', '35%', '4%', '19%', '8%'],\n",
       "      dtype=object)"
      ]
     },
     "execution_count": 14,
     "metadata": {},
     "output_type": "execute_result"
    }
   ],
   "source": [
    "# check object columns for null values\n",
    "df_listings_merged_na['host_acceptance_rate'].unique() "
   ]
  },
  {
   "cell_type": "code",
   "execution_count": 15,
   "metadata": {},
   "outputs": [],
   "source": [
    "# fill 0% for rates\n",
    "df_listings_merged_na = df_listings_merged_na.fillna({'host_response_rate': '0%', 'host_acceptance_rate': '0%'})"
   ]
  },
  {
   "cell_type": "code",
   "execution_count": 16,
   "metadata": {},
   "outputs": [],
   "source": [
    "#fill No response for host_response_time\n",
    "df_listings_merged_na['host_response_time'] = df_listings_merged_na['host_response_time'].fillna('no response')"
   ]
  },
  {
   "cell_type": "code",
   "execution_count": 17,
   "metadata": {},
   "outputs": [],
   "source": [
    "# Fill Unknown for name host_name\n",
    "df_listings_merged_na = df_listings_merged_na.fillna({'name': 'unknown', 'host_name': 'unknown'})"
   ]
  },
  {
   "cell_type": "code",
   "execution_count": 18,
   "metadata": {},
   "outputs": [
    {
     "data": {
      "text/html": [
       "<div>\n",
       "<style scoped>\n",
       "    .dataframe tbody tr th:only-of-type {\n",
       "        vertical-align: middle;\n",
       "    }\n",
       "\n",
       "    .dataframe tbody tr th {\n",
       "        vertical-align: top;\n",
       "    }\n",
       "\n",
       "    .dataframe thead th {\n",
       "        text-align: right;\n",
       "    }\n",
       "</style>\n",
       "<table border=\"1\" class=\"dataframe\">\n",
       "  <thead>\n",
       "    <tr style=\"text-align: right;\">\n",
       "      <th></th>\n",
       "      <th>property_type</th>\n",
       "      <th>accommodates</th>\n",
       "      <th>review_scores_rating</th>\n",
       "      <th>review_scores_accuracy</th>\n",
       "      <th>review_scores_cleanliness</th>\n",
       "      <th>review_scores_checkin</th>\n",
       "      <th>review_scores_communication</th>\n",
       "      <th>review_scores_location</th>\n",
       "      <th>review_scores_value</th>\n",
       "      <th>instant_bookable</th>\n",
       "      <th>null count</th>\n",
       "    </tr>\n",
       "  </thead>\n",
       "  <tbody>\n",
       "    <tr>\n",
       "      <th>0</th>\n",
       "      <td>Entire rental unit</td>\n",
       "      <td>2.0</td>\n",
       "      <td>4.74</td>\n",
       "      <td>4.96</td>\n",
       "      <td>4.87</td>\n",
       "      <td>4.78</td>\n",
       "      <td>4.91</td>\n",
       "      <td>4.78</td>\n",
       "      <td>4.91</td>\n",
       "      <td>t</td>\n",
       "      <td>0</td>\n",
       "    </tr>\n",
       "    <tr>\n",
       "      <th>1</th>\n",
       "      <td>Private room in rental unit</td>\n",
       "      <td>1.0</td>\n",
       "      <td>5.00</td>\n",
       "      <td>5.00</td>\n",
       "      <td>5.00</td>\n",
       "      <td>5.00</td>\n",
       "      <td>5.00</td>\n",
       "      <td>5.00</td>\n",
       "      <td>5.00</td>\n",
       "      <td>t</td>\n",
       "      <td>3</td>\n",
       "    </tr>\n",
       "    <tr>\n",
       "      <th>2</th>\n",
       "      <td>Shared room in rental unit</td>\n",
       "      <td>2.0</td>\n",
       "      <td>5.00</td>\n",
       "      <td>5.00</td>\n",
       "      <td>5.00</td>\n",
       "      <td>5.00</td>\n",
       "      <td>5.00</td>\n",
       "      <td>5.00</td>\n",
       "      <td>5.00</td>\n",
       "      <td>t</td>\n",
       "      <td>3</td>\n",
       "    </tr>\n",
       "    <tr>\n",
       "      <th>3</th>\n",
       "      <td>Private room in rental unit</td>\n",
       "      <td>2.0</td>\n",
       "      <td>NaN</td>\n",
       "      <td>NaN</td>\n",
       "      <td>NaN</td>\n",
       "      <td>NaN</td>\n",
       "      <td>NaN</td>\n",
       "      <td>NaN</td>\n",
       "      <td>NaN</td>\n",
       "      <td>f</td>\n",
       "      <td>12</td>\n",
       "    </tr>\n",
       "    <tr>\n",
       "      <th>4</th>\n",
       "      <td>Entire rental unit</td>\n",
       "      <td>2.0</td>\n",
       "      <td>4.78</td>\n",
       "      <td>4.78</td>\n",
       "      <td>4.89</td>\n",
       "      <td>4.78</td>\n",
       "      <td>5.00</td>\n",
       "      <td>4.67</td>\n",
       "      <td>4.89</td>\n",
       "      <td>f</td>\n",
       "      <td>3</td>\n",
       "    </tr>\n",
       "    <tr>\n",
       "      <th>...</th>\n",
       "      <td>...</td>\n",
       "      <td>...</td>\n",
       "      <td>...</td>\n",
       "      <td>...</td>\n",
       "      <td>...</td>\n",
       "      <td>...</td>\n",
       "      <td>...</td>\n",
       "      <td>...</td>\n",
       "      <td>...</td>\n",
       "      <td>...</td>\n",
       "      <td>...</td>\n",
       "    </tr>\n",
       "    <tr>\n",
       "      <th>11447</th>\n",
       "      <td>Private room in rental unit</td>\n",
       "      <td>2.0</td>\n",
       "      <td>5.00</td>\n",
       "      <td>5.00</td>\n",
       "      <td>5.00</td>\n",
       "      <td>5.00</td>\n",
       "      <td>5.00</td>\n",
       "      <td>5.00</td>\n",
       "      <td>5.00</td>\n",
       "      <td>t</td>\n",
       "      <td>0</td>\n",
       "    </tr>\n",
       "    <tr>\n",
       "      <th>11448</th>\n",
       "      <td>Private room in bed and breakfast</td>\n",
       "      <td>16.0</td>\n",
       "      <td>4.00</td>\n",
       "      <td>5.00</td>\n",
       "      <td>5.00</td>\n",
       "      <td>5.00</td>\n",
       "      <td>5.00</td>\n",
       "      <td>4.00</td>\n",
       "      <td>4.00</td>\n",
       "      <td>f</td>\n",
       "      <td>0</td>\n",
       "    </tr>\n",
       "    <tr>\n",
       "      <th>11449</th>\n",
       "      <td>Entire condominium (condo)</td>\n",
       "      <td>2.0</td>\n",
       "      <td>5.00</td>\n",
       "      <td>5.00</td>\n",
       "      <td>4.83</td>\n",
       "      <td>5.00</td>\n",
       "      <td>5.00</td>\n",
       "      <td>5.00</td>\n",
       "      <td>5.00</td>\n",
       "      <td>t</td>\n",
       "      <td>0</td>\n",
       "    </tr>\n",
       "    <tr>\n",
       "      <th>11450</th>\n",
       "      <td>Entire rental unit</td>\n",
       "      <td>4.0</td>\n",
       "      <td>4.85</td>\n",
       "      <td>4.85</td>\n",
       "      <td>4.92</td>\n",
       "      <td>4.93</td>\n",
       "      <td>4.92</td>\n",
       "      <td>4.75</td>\n",
       "      <td>4.87</td>\n",
       "      <td>f</td>\n",
       "      <td>0</td>\n",
       "    </tr>\n",
       "    <tr>\n",
       "      <th>11451</th>\n",
       "      <td>Entire rental unit</td>\n",
       "      <td>4.0</td>\n",
       "      <td>NaN</td>\n",
       "      <td>NaN</td>\n",
       "      <td>NaN</td>\n",
       "      <td>NaN</td>\n",
       "      <td>NaN</td>\n",
       "      <td>NaN</td>\n",
       "      <td>NaN</td>\n",
       "      <td>t</td>\n",
       "      <td>9</td>\n",
       "    </tr>\n",
       "  </tbody>\n",
       "</table>\n",
       "<p>11452 rows × 11 columns</p>\n",
       "</div>"
      ],
      "text/plain": [
       "                           property_type  accommodates  review_scores_rating  \\\n",
       "0                     Entire rental unit           2.0                  4.74   \n",
       "1            Private room in rental unit           1.0                  5.00   \n",
       "2             Shared room in rental unit           2.0                  5.00   \n",
       "3            Private room in rental unit           2.0                   NaN   \n",
       "4                     Entire rental unit           2.0                  4.78   \n",
       "...                                  ...           ...                   ...   \n",
       "11447        Private room in rental unit           2.0                  5.00   \n",
       "11448  Private room in bed and breakfast          16.0                  4.00   \n",
       "11449         Entire condominium (condo)           2.0                  5.00   \n",
       "11450                 Entire rental unit           4.0                  4.85   \n",
       "11451                 Entire rental unit           4.0                   NaN   \n",
       "\n",
       "       review_scores_accuracy  review_scores_cleanliness  \\\n",
       "0                        4.96                       4.87   \n",
       "1                        5.00                       5.00   \n",
       "2                        5.00                       5.00   \n",
       "3                         NaN                        NaN   \n",
       "4                        4.78                       4.89   \n",
       "...                       ...                        ...   \n",
       "11447                    5.00                       5.00   \n",
       "11448                    5.00                       5.00   \n",
       "11449                    5.00                       4.83   \n",
       "11450                    4.85                       4.92   \n",
       "11451                     NaN                        NaN   \n",
       "\n",
       "       review_scores_checkin  review_scores_communication  \\\n",
       "0                       4.78                         4.91   \n",
       "1                       5.00                         5.00   \n",
       "2                       5.00                         5.00   \n",
       "3                        NaN                          NaN   \n",
       "4                       4.78                         5.00   \n",
       "...                      ...                          ...   \n",
       "11447                   5.00                         5.00   \n",
       "11448                   5.00                         5.00   \n",
       "11449                   5.00                         5.00   \n",
       "11450                   4.93                         4.92   \n",
       "11451                    NaN                          NaN   \n",
       "\n",
       "       review_scores_location  review_scores_value instant_bookable  \\\n",
       "0                        4.78                 4.91                t   \n",
       "1                        5.00                 5.00                t   \n",
       "2                        5.00                 5.00                t   \n",
       "3                         NaN                  NaN                f   \n",
       "4                        4.67                 4.89                f   \n",
       "...                       ...                  ...              ...   \n",
       "11447                    5.00                 5.00                t   \n",
       "11448                    4.00                 4.00                f   \n",
       "11449                    5.00                 5.00                t   \n",
       "11450                    4.75                 4.87                f   \n",
       "11451                     NaN                  NaN                t   \n",
       "\n",
       "       null count  \n",
       "0               0  \n",
       "1               3  \n",
       "2               3  \n",
       "3              12  \n",
       "4               3  \n",
       "...           ...  \n",
       "11447           0  \n",
       "11448           0  \n",
       "11449           0  \n",
       "11450           0  \n",
       "11451           9  \n",
       "\n",
       "[11452 rows x 11 columns]"
      ]
     },
     "execution_count": 18,
     "metadata": {},
     "output_type": "execute_result"
    }
   ],
   "source": [
    "#check objects for null values\n",
    "df_listings_merged_na.loc[::,'property_type':]"
   ]
  },
  {
   "cell_type": "code",
   "execution_count": 19,
   "metadata": {},
   "outputs": [],
   "source": [
    "# last_review transform to date, null values stay\n",
    "df_listings_merged_na['last_review'] = pd.to_datetime(df_listings_merged_na['last_review'])"
   ]
  },
  {
   "cell_type": "code",
   "execution_count": 20,
   "metadata": {},
   "outputs": [],
   "source": [
    "# host_is_superhost/instant bookable transform to boolean 1 and 0, null values stay\n",
    "df_listings_merged_na['host_is_superhost'] = df_listings_merged_na['host_is_superhost'].replace({'t': '1', 'f':'0'})\n",
    "df_listings_merged_na['host_is_superhost'] = pd.to_numeric(df_listings_merged_na['host_is_superhost'], errors='coerce')\n",
    "df_listings_merged_na['instant_bookable'] = df_listings_merged_na['instant_bookable'].replace({'t': '1', 'f':'0'})\n",
    "df_listings_merged_na['instant_bookable'] = pd.to_numeric(df_listings_merged_na['instant_bookable'], errors='coerce')"
   ]
  },
  {
   "cell_type": "code",
   "execution_count": 21,
   "metadata": {},
   "outputs": [],
   "source": [
    "# transform percentage rates from object to float\n",
    "df_listings_merged_na['host_response_rate'] = df_listings_merged_na['host_response_rate'].str.rstrip('%').astype('float') / 100.0\n",
    "df_listings_merged_na['host_acceptance_rate'] = df_listings_merged_na['host_acceptance_rate'].str.rstrip('%').astype('float') / 100.0"
   ]
  },
  {
   "cell_type": "code",
   "execution_count": 22,
   "metadata": {},
   "outputs": [],
   "source": [
    "# transform id to float, accommodates to int\n",
    "df_listings_merged_na = df_listings_merged_na.astype({'id' : float})\n",
    "df_listings_merged_na = df_listings_merged_na.astype({'accommodates' : 'int64'})"
   ]
  },
  {
   "cell_type": "code",
   "execution_count": 23,
   "metadata": {},
   "outputs": [],
   "source": [
    "#rating averages\n",
    "df_listings_merged_na['avg_score_rating'] = df_listings_merged_na.loc[::, 'review_scores_rating':'review_scores_value'].mean(numeric_only=True, skipna=True, axis=1).round(2)\n",
    "df_listings_merged_na = df_listings_merged_na.drop(columns='null count')"
   ]
  },
  {
   "cell_type": "code",
   "execution_count": 24,
   "metadata": {},
   "outputs": [
    {
     "data": {
      "text/html": [
       "<div>\n",
       "<style scoped>\n",
       "    .dataframe tbody tr th:only-of-type {\n",
       "        vertical-align: middle;\n",
       "    }\n",
       "\n",
       "    .dataframe tbody tr th {\n",
       "        vertical-align: top;\n",
       "    }\n",
       "\n",
       "    .dataframe thead th {\n",
       "        text-align: right;\n",
       "    }\n",
       "</style>\n",
       "<table border=\"1\" class=\"dataframe\">\n",
       "  <thead>\n",
       "    <tr style=\"text-align: right;\">\n",
       "      <th></th>\n",
       "      <th>count</th>\n",
       "      <th>mean</th>\n",
       "      <th>std</th>\n",
       "      <th>min</th>\n",
       "      <th>25%</th>\n",
       "      <th>50%</th>\n",
       "      <th>75%</th>\n",
       "      <th>max</th>\n",
       "    </tr>\n",
       "  </thead>\n",
       "  <tbody>\n",
       "    <tr>\n",
       "      <th>id</th>\n",
       "      <td>11452.0</td>\n",
       "      <td>1.694190e+16</td>\n",
       "      <td>9.587092e+16</td>\n",
       "      <td>15883.00000</td>\n",
       "      <td>1.636199e+07</td>\n",
       "      <td>3.096924e+07</td>\n",
       "      <td>4.402723e+07</td>\n",
       "      <td>5.781258e+17</td>\n",
       "    </tr>\n",
       "    <tr>\n",
       "      <th>host_id</th>\n",
       "      <td>11452.0</td>\n",
       "      <td>1.226891e+08</td>\n",
       "      <td>1.287431e+08</td>\n",
       "      <td>19469.00000</td>\n",
       "      <td>1.593529e+07</td>\n",
       "      <td>6.624488e+07</td>\n",
       "      <td>2.109623e+08</td>\n",
       "      <td>4.506911e+08</td>\n",
       "    </tr>\n",
       "    <tr>\n",
       "      <th>latitude</th>\n",
       "      <td>11452.0</td>\n",
       "      <td>4.820515e+01</td>\n",
       "      <td>2.043823e-02</td>\n",
       "      <td>48.12528</td>\n",
       "      <td>4.819156e+01</td>\n",
       "      <td>4.820435e+01</td>\n",
       "      <td>4.821853e+01</td>\n",
       "      <td>4.832007e+01</td>\n",
       "    </tr>\n",
       "    <tr>\n",
       "      <th>longitude</th>\n",
       "      <td>11452.0</td>\n",
       "      <td>1.636090e+01</td>\n",
       "      <td>3.531200e-02</td>\n",
       "      <td>16.19317</td>\n",
       "      <td>1.633910e+01</td>\n",
       "      <td>1.635807e+01</td>\n",
       "      <td>1.638088e+01</td>\n",
       "      <td>1.654662e+01</td>\n",
       "    </tr>\n",
       "    <tr>\n",
       "      <th>price</th>\n",
       "      <td>11452.0</td>\n",
       "      <td>8.251877e+01</td>\n",
       "      <td>2.111196e+02</td>\n",
       "      <td>0.00000</td>\n",
       "      <td>4.000000e+01</td>\n",
       "      <td>6.000000e+01</td>\n",
       "      <td>8.900000e+01</td>\n",
       "      <td>9.999000e+03</td>\n",
       "    </tr>\n",
       "    <tr>\n",
       "      <th>minimum_nights</th>\n",
       "      <td>11452.0</td>\n",
       "      <td>6.835400e+00</td>\n",
       "      <td>2.804493e+01</td>\n",
       "      <td>1.00000</td>\n",
       "      <td>1.000000e+00</td>\n",
       "      <td>2.000000e+00</td>\n",
       "      <td>3.000000e+00</td>\n",
       "      <td>1.125000e+03</td>\n",
       "    </tr>\n",
       "    <tr>\n",
       "      <th>number_of_reviews</th>\n",
       "      <td>11452.0</td>\n",
       "      <td>3.259562e+01</td>\n",
       "      <td>6.283881e+01</td>\n",
       "      <td>0.00000</td>\n",
       "      <td>1.000000e+00</td>\n",
       "      <td>7.000000e+00</td>\n",
       "      <td>3.400000e+01</td>\n",
       "      <td>6.450000e+02</td>\n",
       "    </tr>\n",
       "    <tr>\n",
       "      <th>reviews_per_month</th>\n",
       "      <td>11452.0</td>\n",
       "      <td>8.681104e-01</td>\n",
       "      <td>1.407903e+00</td>\n",
       "      <td>0.00000</td>\n",
       "      <td>4.000000e-02</td>\n",
       "      <td>2.900000e-01</td>\n",
       "      <td>1.160000e+00</td>\n",
       "      <td>4.714000e+01</td>\n",
       "    </tr>\n",
       "    <tr>\n",
       "      <th>calculated_host_listings_count</th>\n",
       "      <td>11452.0</td>\n",
       "      <td>1.127559e+01</td>\n",
       "      <td>2.105029e+01</td>\n",
       "      <td>1.00000</td>\n",
       "      <td>1.000000e+00</td>\n",
       "      <td>2.000000e+00</td>\n",
       "      <td>8.000000e+00</td>\n",
       "      <td>1.010000e+02</td>\n",
       "    </tr>\n",
       "    <tr>\n",
       "      <th>availability_365</th>\n",
       "      <td>11452.0</td>\n",
       "      <td>1.442295e+02</td>\n",
       "      <td>1.386030e+02</td>\n",
       "      <td>0.00000</td>\n",
       "      <td>0.000000e+00</td>\n",
       "      <td>1.015000e+02</td>\n",
       "      <td>2.860000e+02</td>\n",
       "      <td>3.650000e+02</td>\n",
       "    </tr>\n",
       "    <tr>\n",
       "      <th>number_of_reviews_ltm</th>\n",
       "      <td>11452.0</td>\n",
       "      <td>5.875568e+00</td>\n",
       "      <td>1.307713e+01</td>\n",
       "      <td>0.00000</td>\n",
       "      <td>0.000000e+00</td>\n",
       "      <td>0.000000e+00</td>\n",
       "      <td>6.000000e+00</td>\n",
       "      <td>5.280000e+02</td>\n",
       "    </tr>\n",
       "    <tr>\n",
       "      <th>host_response_rate</th>\n",
       "      <td>11452.0</td>\n",
       "      <td>5.776336e-01</td>\n",
       "      <td>4.780667e-01</td>\n",
       "      <td>0.00000</td>\n",
       "      <td>0.000000e+00</td>\n",
       "      <td>9.400000e-01</td>\n",
       "      <td>1.000000e+00</td>\n",
       "      <td>1.000000e+00</td>\n",
       "    </tr>\n",
       "    <tr>\n",
       "      <th>host_acceptance_rate</th>\n",
       "      <td>11452.0</td>\n",
       "      <td>5.846804e-01</td>\n",
       "      <td>4.544973e-01</td>\n",
       "      <td>0.00000</td>\n",
       "      <td>0.000000e+00</td>\n",
       "      <td>9.000000e-01</td>\n",
       "      <td>1.000000e+00</td>\n",
       "      <td>1.000000e+00</td>\n",
       "    </tr>\n",
       "    <tr>\n",
       "      <th>host_is_superhost</th>\n",
       "      <td>11448.0</td>\n",
       "      <td>2.680818e-01</td>\n",
       "      <td>4.429798e-01</td>\n",
       "      <td>0.00000</td>\n",
       "      <td>0.000000e+00</td>\n",
       "      <td>0.000000e+00</td>\n",
       "      <td>1.000000e+00</td>\n",
       "      <td>1.000000e+00</td>\n",
       "    </tr>\n",
       "    <tr>\n",
       "      <th>accommodates</th>\n",
       "      <td>11452.0</td>\n",
       "      <td>3.286064e+00</td>\n",
       "      <td>1.842095e+00</td>\n",
       "      <td>0.00000</td>\n",
       "      <td>2.000000e+00</td>\n",
       "      <td>3.000000e+00</td>\n",
       "      <td>4.000000e+00</td>\n",
       "      <td>1.600000e+01</td>\n",
       "    </tr>\n",
       "    <tr>\n",
       "      <th>review_scores_rating</th>\n",
       "      <td>9236.0</td>\n",
       "      <td>4.659371e+00</td>\n",
       "      <td>6.508248e-01</td>\n",
       "      <td>0.00000</td>\n",
       "      <td>4.610000e+00</td>\n",
       "      <td>4.830000e+00</td>\n",
       "      <td>5.000000e+00</td>\n",
       "      <td>5.000000e+00</td>\n",
       "    </tr>\n",
       "    <tr>\n",
       "      <th>review_scores_accuracy</th>\n",
       "      <td>9126.0</td>\n",
       "      <td>4.784943e+00</td>\n",
       "      <td>4.047286e-01</td>\n",
       "      <td>0.00000</td>\n",
       "      <td>4.750000e+00</td>\n",
       "      <td>4.900000e+00</td>\n",
       "      <td>5.000000e+00</td>\n",
       "      <td>5.000000e+00</td>\n",
       "    </tr>\n",
       "    <tr>\n",
       "      <th>review_scores_cleanliness</th>\n",
       "      <td>9126.0</td>\n",
       "      <td>4.685502e+00</td>\n",
       "      <td>4.765105e-01</td>\n",
       "      <td>0.00000</td>\n",
       "      <td>4.600000e+00</td>\n",
       "      <td>4.830000e+00</td>\n",
       "      <td>5.000000e+00</td>\n",
       "      <td>5.000000e+00</td>\n",
       "    </tr>\n",
       "    <tr>\n",
       "      <th>review_scores_checkin</th>\n",
       "      <td>9125.0</td>\n",
       "      <td>4.839715e+00</td>\n",
       "      <td>3.573734e-01</td>\n",
       "      <td>0.00000</td>\n",
       "      <td>4.820000e+00</td>\n",
       "      <td>4.940000e+00</td>\n",
       "      <td>5.000000e+00</td>\n",
       "      <td>5.000000e+00</td>\n",
       "    </tr>\n",
       "    <tr>\n",
       "      <th>review_scores_communication</th>\n",
       "      <td>9127.0</td>\n",
       "      <td>4.818195e+00</td>\n",
       "      <td>3.868070e-01</td>\n",
       "      <td>0.00000</td>\n",
       "      <td>4.800000e+00</td>\n",
       "      <td>4.940000e+00</td>\n",
       "      <td>5.000000e+00</td>\n",
       "      <td>5.000000e+00</td>\n",
       "    </tr>\n",
       "    <tr>\n",
       "      <th>review_scores_location</th>\n",
       "      <td>9124.0</td>\n",
       "      <td>4.731675e+00</td>\n",
       "      <td>3.747491e-01</td>\n",
       "      <td>0.00000</td>\n",
       "      <td>4.630000e+00</td>\n",
       "      <td>4.820000e+00</td>\n",
       "      <td>5.000000e+00</td>\n",
       "      <td>5.000000e+00</td>\n",
       "    </tr>\n",
       "    <tr>\n",
       "      <th>review_scores_value</th>\n",
       "      <td>9123.0</td>\n",
       "      <td>4.681631e+00</td>\n",
       "      <td>4.123891e-01</td>\n",
       "      <td>0.00000</td>\n",
       "      <td>4.600000e+00</td>\n",
       "      <td>4.770000e+00</td>\n",
       "      <td>4.920000e+00</td>\n",
       "      <td>5.000000e+00</td>\n",
       "    </tr>\n",
       "    <tr>\n",
       "      <th>instant_bookable</th>\n",
       "      <td>11452.0</td>\n",
       "      <td>5.000000e-01</td>\n",
       "      <td>5.000218e-01</td>\n",
       "      <td>0.00000</td>\n",
       "      <td>0.000000e+00</td>\n",
       "      <td>5.000000e-01</td>\n",
       "      <td>1.000000e+00</td>\n",
       "      <td>1.000000e+00</td>\n",
       "    </tr>\n",
       "    <tr>\n",
       "      <th>avg_score_rating</th>\n",
       "      <td>9236.0</td>\n",
       "      <td>4.694600e+00</td>\n",
       "      <td>6.115605e-01</td>\n",
       "      <td>0.00000</td>\n",
       "      <td>4.690000e+00</td>\n",
       "      <td>4.830000e+00</td>\n",
       "      <td>4.920000e+00</td>\n",
       "      <td>5.000000e+00</td>\n",
       "    </tr>\n",
       "  </tbody>\n",
       "</table>\n",
       "</div>"
      ],
      "text/plain": [
       "                                  count          mean           std  \\\n",
       "id                              11452.0  1.694190e+16  9.587092e+16   \n",
       "host_id                         11452.0  1.226891e+08  1.287431e+08   \n",
       "latitude                        11452.0  4.820515e+01  2.043823e-02   \n",
       "longitude                       11452.0  1.636090e+01  3.531200e-02   \n",
       "price                           11452.0  8.251877e+01  2.111196e+02   \n",
       "minimum_nights                  11452.0  6.835400e+00  2.804493e+01   \n",
       "number_of_reviews               11452.0  3.259562e+01  6.283881e+01   \n",
       "reviews_per_month               11452.0  8.681104e-01  1.407903e+00   \n",
       "calculated_host_listings_count  11452.0  1.127559e+01  2.105029e+01   \n",
       "availability_365                11452.0  1.442295e+02  1.386030e+02   \n",
       "number_of_reviews_ltm           11452.0  5.875568e+00  1.307713e+01   \n",
       "host_response_rate              11452.0  5.776336e-01  4.780667e-01   \n",
       "host_acceptance_rate            11452.0  5.846804e-01  4.544973e-01   \n",
       "host_is_superhost               11448.0  2.680818e-01  4.429798e-01   \n",
       "accommodates                    11452.0  3.286064e+00  1.842095e+00   \n",
       "review_scores_rating             9236.0  4.659371e+00  6.508248e-01   \n",
       "review_scores_accuracy           9126.0  4.784943e+00  4.047286e-01   \n",
       "review_scores_cleanliness        9126.0  4.685502e+00  4.765105e-01   \n",
       "review_scores_checkin            9125.0  4.839715e+00  3.573734e-01   \n",
       "review_scores_communication      9127.0  4.818195e+00  3.868070e-01   \n",
       "review_scores_location           9124.0  4.731675e+00  3.747491e-01   \n",
       "review_scores_value              9123.0  4.681631e+00  4.123891e-01   \n",
       "instant_bookable                11452.0  5.000000e-01  5.000218e-01   \n",
       "avg_score_rating                 9236.0  4.694600e+00  6.115605e-01   \n",
       "\n",
       "                                        min           25%           50%  \\\n",
       "id                              15883.00000  1.636199e+07  3.096924e+07   \n",
       "host_id                         19469.00000  1.593529e+07  6.624488e+07   \n",
       "latitude                           48.12528  4.819156e+01  4.820435e+01   \n",
       "longitude                          16.19317  1.633910e+01  1.635807e+01   \n",
       "price                               0.00000  4.000000e+01  6.000000e+01   \n",
       "minimum_nights                      1.00000  1.000000e+00  2.000000e+00   \n",
       "number_of_reviews                   0.00000  1.000000e+00  7.000000e+00   \n",
       "reviews_per_month                   0.00000  4.000000e-02  2.900000e-01   \n",
       "calculated_host_listings_count      1.00000  1.000000e+00  2.000000e+00   \n",
       "availability_365                    0.00000  0.000000e+00  1.015000e+02   \n",
       "number_of_reviews_ltm               0.00000  0.000000e+00  0.000000e+00   \n",
       "host_response_rate                  0.00000  0.000000e+00  9.400000e-01   \n",
       "host_acceptance_rate                0.00000  0.000000e+00  9.000000e-01   \n",
       "host_is_superhost                   0.00000  0.000000e+00  0.000000e+00   \n",
       "accommodates                        0.00000  2.000000e+00  3.000000e+00   \n",
       "review_scores_rating                0.00000  4.610000e+00  4.830000e+00   \n",
       "review_scores_accuracy              0.00000  4.750000e+00  4.900000e+00   \n",
       "review_scores_cleanliness           0.00000  4.600000e+00  4.830000e+00   \n",
       "review_scores_checkin               0.00000  4.820000e+00  4.940000e+00   \n",
       "review_scores_communication         0.00000  4.800000e+00  4.940000e+00   \n",
       "review_scores_location              0.00000  4.630000e+00  4.820000e+00   \n",
       "review_scores_value                 0.00000  4.600000e+00  4.770000e+00   \n",
       "instant_bookable                    0.00000  0.000000e+00  5.000000e-01   \n",
       "avg_score_rating                    0.00000  4.690000e+00  4.830000e+00   \n",
       "\n",
       "                                         75%           max  \n",
       "id                              4.402723e+07  5.781258e+17  \n",
       "host_id                         2.109623e+08  4.506911e+08  \n",
       "latitude                        4.821853e+01  4.832007e+01  \n",
       "longitude                       1.638088e+01  1.654662e+01  \n",
       "price                           8.900000e+01  9.999000e+03  \n",
       "minimum_nights                  3.000000e+00  1.125000e+03  \n",
       "number_of_reviews               3.400000e+01  6.450000e+02  \n",
       "reviews_per_month               1.160000e+00  4.714000e+01  \n",
       "calculated_host_listings_count  8.000000e+00  1.010000e+02  \n",
       "availability_365                2.860000e+02  3.650000e+02  \n",
       "number_of_reviews_ltm           6.000000e+00  5.280000e+02  \n",
       "host_response_rate              1.000000e+00  1.000000e+00  \n",
       "host_acceptance_rate            1.000000e+00  1.000000e+00  \n",
       "host_is_superhost               1.000000e+00  1.000000e+00  \n",
       "accommodates                    4.000000e+00  1.600000e+01  \n",
       "review_scores_rating            5.000000e+00  5.000000e+00  \n",
       "review_scores_accuracy          5.000000e+00  5.000000e+00  \n",
       "review_scores_cleanliness       5.000000e+00  5.000000e+00  \n",
       "review_scores_checkin           5.000000e+00  5.000000e+00  \n",
       "review_scores_communication     5.000000e+00  5.000000e+00  \n",
       "review_scores_location          5.000000e+00  5.000000e+00  \n",
       "review_scores_value             4.920000e+00  5.000000e+00  \n",
       "instant_bookable                1.000000e+00  1.000000e+00  \n",
       "avg_score_rating                4.920000e+00  5.000000e+00  "
      ]
     },
     "execution_count": 24,
     "metadata": {},
     "output_type": "execute_result"
    }
   ],
   "source": [
    "df_listings_merged_na.head()\n",
    "df_listings_merged_na['number_of_reviews'].mode()\n",
    "df_listings_merged_na.describe().T"
   ]
  },
  {
   "cell_type": "code",
   "execution_count": 82,
   "metadata": {},
   "outputs": [],
   "source": [
    "# create table listings\n",
    "# (\n",
    "#     id                                 int,\n",
    "#     name                               varchar,\n",
    "#     host_id                            float,\n",
    "#     host_name                          varchar,\n",
    "#     neighbourhood                      varchar,\n",
    "#     latitude                          float,\n",
    "#     longitude                         float,\n",
    "#     room_type                          varchar,\n",
    "#     price                             float,\n",
    "#     minimum_nights                    float,\n",
    "#     number_of_reviews                 float,\n",
    "#     last_review                        timestamp,\n",
    "#     reviews_per_month                 float,\n",
    "#     calculated_host_listings_count    float,\n",
    "#     availability_365                  float,\n",
    "#     number_of_reviews_ltm             float,\n",
    "#     host_response_time                 varchar,\n",
    "#     host_response_rate                 float,\n",
    "#     host_acceptance_rate               float,\n",
    "#     host_is_superhost                  float\n",
    "# );"
   ]
  },
  {
   "cell_type": "code",
   "execution_count": 25,
   "metadata": {},
   "outputs": [
    {
     "data": {
      "text/plain": [
       "{'object': 'varchar',\n",
       " 'float64': 'float',\n",
       " 'int64': 'int',\n",
       " 'datetime64[ns]': 'timestamp'}"
      ]
     },
     "execution_count": 25,
     "metadata": {},
     "output_type": "execute_result"
    }
   ],
   "source": [
    "replacements = {\n",
    "    'object' : 'varchar',\n",
    "    'float64' : 'float',\n",
    "    'int64' : 'int',\n",
    "    'datetime64[ns]' : 'timestamp'\n",
    "}\n",
    "replacements"
   ]
  },
  {
   "cell_type": "code",
   "execution_count": 26,
   "metadata": {},
   "outputs": [
    {
     "data": {
      "text/plain": [
       "'id float, name varchar, host_id float, host_name varchar, neighbourhood varchar, latitude float, longitude float, room_type varchar, price float, minimum_nights float, number_of_reviews float, last_review timestamp, reviews_per_month float, calculated_host_listings_count float, availability_365 float, number_of_reviews_ltm float, host_response_time varchar, host_url varchar, host_response_rate float, host_acceptance_rate float, host_is_superhost float, property_type varchar, accommodates int, review_scores_rating float, review_scores_accuracy float, review_scores_cleanliness float, review_scores_checkin float, review_scores_communication float, review_scores_location float, review_scores_value float, instant_bookable int, avg_score_rating float'"
      ]
     },
     "execution_count": 26,
     "metadata": {},
     "output_type": "execute_result"
    }
   ],
   "source": [
    "#columns for postgres database\n",
    "col_str = \", \".join(\"{} {}\".format(n, d) for (n, d) in zip(df_listings_merged_na.columns, df_listings_merged_na.dtypes.replace(replacements)))\n",
    "col_str"
   ]
  },
  {
   "cell_type": "code",
   "execution_count": 92,
   "metadata": {},
   "outputs": [
    {
     "name": "stdout",
     "output_type": "stream",
     "text": [
      "Opened database successfully\n"
     ]
    }
   ],
   "source": [
    "#Open a database connection\n",
    "conn_string = \"host=database-airbnb.cl4bob5uux9z.us-west-1.rds.amazonaws.com \\\n",
    "    dbname='postgres' \\\n",
    "        user='postgres' password='geslozapostgre123'\"\n",
    "\n",
    "conn = psycopg2.connect(conn_string)\n",
    "cursor = conn.cursor()\n",
    "print('Opened database successfully')"
   ]
  },
  {
   "cell_type": "code",
   "execution_count": 93,
   "metadata": {},
   "outputs": [],
   "source": [
    "#drop tables with the same name\n",
    "cursor.execute(\"drop table if exists listings;\")"
   ]
  },
  {
   "cell_type": "code",
   "execution_count": 94,
   "metadata": {},
   "outputs": [],
   "source": [
    "#create table\n",
    "cursor.execute(\"create table listings \\\n",
    "    (id float, name varchar, host_id float, host_name varchar, neighbourhood varchar, latitude float, longitude float, room_type varchar, \\\n",
    "        price float, minimum_nights float, number_of_reviews float, last_review timestamp, reviews_per_month float, \\\n",
    "            calculated_host_listings_count float, availability_365 float, number_of_reviews_ltm float, host_response_time varchar, \\\n",
    "                host_response_rate float, host_acceptance_rate float, host_is_superhost float, \\\n",
    "                    property_type varchar, accommodates int, review_scores_rating float, review_scores_accuracy float, \\\n",
    "                        review_scores_cleanliness float, review_scores_checkin float, review_scores_communication float, \\\n",
    "                            review_scores_location float, review_scores_value float, instant_bookable int, avg_score_rating float)\")"
   ]
  },
  {
   "cell_type": "code",
   "execution_count": 27,
   "metadata": {},
   "outputs": [],
   "source": [
    "# Save to csv\n",
    "df_listings_merged_na.to_csv('../airbnb_data_vienna/csv/listings.csv', header=df_listings_merged_na.columns, index=False, encoding='utf-8')"
   ]
  },
  {
   "cell_type": "code",
   "execution_count": 28,
   "metadata": {},
   "outputs": [],
   "source": [
    "#get listing link\n",
    "df_host_url = pd.read_csv('../airbnb_data_vienna/csv/listings.csv')"
   ]
  },
  {
   "cell_type": "code",
   "execution_count": 36,
   "metadata": {},
   "outputs": [
    {
     "data": {
      "text/plain": [
       "array(['https://www.airbnb.com/users/show/757295',\n",
       "       'https://www.airbnb.com/users/show/318961878'], dtype=object)"
      ]
     },
     "execution_count": 36,
     "metadata": {},
     "output_type": "execute_result"
    }
   ],
   "source": [
    "filter = df_host_url.query(\"host_id == 757295.0 | host_id == 318961878.0\")\n",
    "filter['host_url'].unique()"
   ]
  },
  {
   "cell_type": "code",
   "execution_count": 96,
   "metadata": {},
   "outputs": [
    {
     "name": "stdout",
     "output_type": "stream",
     "text": [
      "File opened in memory\n"
     ]
    }
   ],
   "source": [
    "#open the csv file, save it as an object\n",
    "listings_file = open('../airbnb_data_vienna/csv/listings.csv', encoding='utf-8')\n",
    "print('File opened in memory')"
   ]
  },
  {
   "cell_type": "code",
   "execution_count": 97,
   "metadata": {},
   "outputs": [
    {
     "name": "stdout",
     "output_type": "stream",
     "text": [
      "File copied to db\n"
     ]
    }
   ],
   "source": [
    "# upload to db\n",
    "sql_query = \"\"\"\n",
    "COPY listings FROM STDIN WITH\n",
    "    CSV\n",
    "    HEADER\n",
    "    DELIMITER AS ','\n",
    "\"\"\"\n",
    "cursor.copy_expert(sql=sql_query, file= listings_file)\n",
    "print('File copied to db')"
   ]
  },
  {
   "cell_type": "code",
   "execution_count": 98,
   "metadata": {},
   "outputs": [
    {
     "name": "stdout",
     "output_type": "stream",
     "text": [
      "Table listings immported to db completed\n"
     ]
    }
   ],
   "source": [
    "cursor.execute(\"grant select on table listings to public\")\n",
    "conn.commit()\n",
    "cursor.close()\n",
    "print('Table listings immported to db completed')"
   ]
  }
 ],
 "metadata": {
  "kernelspec": {
   "display_name": "Python 3",
   "language": "python",
   "name": "python3"
  },
  "language_info": {
   "codemirror_mode": {
    "name": "ipython",
    "version": 3
   },
   "file_extension": ".py",
   "mimetype": "text/x-python",
   "name": "python",
   "nbconvert_exporter": "python",
   "pygments_lexer": "ipython3",
   "version": "3.10.6"
  },
  "orig_nbformat": 4,
  "vscode": {
   "interpreter": {
    "hash": "52634da84371cba311ea128a5ea7cdc41ff074b781779e754b270ff9f8153cee"
   }
  }
 },
 "nbformat": 4,
 "nbformat_minor": 2
}
