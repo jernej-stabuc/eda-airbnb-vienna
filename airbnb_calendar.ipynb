{
 "cells": [
  {
   "cell_type": "code",
   "execution_count": 2,
   "metadata": {},
   "outputs": [],
   "source": [
    "import pandas as pd\n",
    "import numpy as np"
   ]
  },
  {
   "cell_type": "code",
   "execution_count": 3,
   "metadata": {},
   "outputs": [],
   "source": [
    "def get_data(path):\n",
    "    try:\n",
    "        data = pd.read_csv(path)\n",
    "        df = pd.DataFrame(data)\n",
    "    except Exception as e:\n",
    "        print(e)\n",
    "    return df"
   ]
  },
  {
   "cell_type": "code",
   "execution_count": 4,
   "metadata": {},
   "outputs": [],
   "source": [
    "calendar_10_03 = get_data('../airbnb_data_vienna/csv/calendar_10_03.csv')\n",
    "calendar_07_06 = get_data('../airbnb_data_vienna/csv/calendar_07_06.csv')\n",
    "calendar_11_09 = get_data('../airbnb_data_vienna/csv/calendar_11_09.csv')"
   ]
  },
  {
   "cell_type": "code",
   "execution_count": 46,
   "metadata": {},
   "outputs": [
    {
     "name": "stdout",
     "output_type": "stream",
     "text": [
      "False\n",
      "False\n",
      "False\n",
      "False\n",
      "False\n",
      "False\n",
      "False\n",
      "True\n",
      "True\n"
     ]
    },
    {
     "data": {
      "text/html": [
       "<div>\n",
       "<style scoped>\n",
       "    .dataframe tbody tr th:only-of-type {\n",
       "        vertical-align: middle;\n",
       "    }\n",
       "\n",
       "    .dataframe tbody tr th {\n",
       "        vertical-align: top;\n",
       "    }\n",
       "\n",
       "    .dataframe thead th {\n",
       "        text-align: right;\n",
       "    }\n",
       "</style>\n",
       "<table border=\"1\" class=\"dataframe\">\n",
       "  <thead>\n",
       "    <tr style=\"text-align: right;\">\n",
       "      <th></th>\n",
       "      <th>listing_id</th>\n",
       "      <th>date</th>\n",
       "      <th>available</th>\n",
       "      <th>price</th>\n",
       "      <th>adjusted_price</th>\n",
       "      <th>minimum_nights</th>\n",
       "      <th>maximum_nights</th>\n",
       "    </tr>\n",
       "  </thead>\n",
       "  <tbody>\n",
       "    <tr>\n",
       "      <th>0</th>\n",
       "      <td>15883.0</td>\n",
       "      <td>2022-03-11</td>\n",
       "      <td>0</td>\n",
       "      <td>110</td>\n",
       "      <td>$110.00</td>\n",
       "      <td>1</td>\n",
       "      <td>365</td>\n",
       "    </tr>\n",
       "    <tr>\n",
       "      <th>1</th>\n",
       "      <td>15883.0</td>\n",
       "      <td>2022-03-12</td>\n",
       "      <td>1</td>\n",
       "      <td>110</td>\n",
       "      <td>$110.00</td>\n",
       "      <td>1</td>\n",
       "      <td>365</td>\n",
       "    </tr>\n",
       "    <tr>\n",
       "      <th>2</th>\n",
       "      <td>15883.0</td>\n",
       "      <td>2022-03-13</td>\n",
       "      <td>1</td>\n",
       "      <td>110</td>\n",
       "      <td>$110.00</td>\n",
       "      <td>1</td>\n",
       "      <td>365</td>\n",
       "    </tr>\n",
       "    <tr>\n",
       "      <th>3</th>\n",
       "      <td>15883.0</td>\n",
       "      <td>2022-03-14</td>\n",
       "      <td>1</td>\n",
       "      <td>110</td>\n",
       "      <td>$110.00</td>\n",
       "      <td>1</td>\n",
       "      <td>365</td>\n",
       "    </tr>\n",
       "    <tr>\n",
       "      <th>4</th>\n",
       "      <td>15883.0</td>\n",
       "      <td>2022-03-15</td>\n",
       "      <td>1</td>\n",
       "      <td>110</td>\n",
       "      <td>$110.00</td>\n",
       "      <td>1</td>\n",
       "      <td>365</td>\n",
       "    </tr>\n",
       "  </tbody>\n",
       "</table>\n",
       "</div>"
      ],
      "text/plain": [
       "   listing_id        date  available  price adjusted_price  minimum_nights  \\\n",
       "0     15883.0  2022-03-11          0    110        $110.00               1   \n",
       "1     15883.0  2022-03-12          1    110        $110.00               1   \n",
       "2     15883.0  2022-03-13          1    110        $110.00               1   \n",
       "3     15883.0  2022-03-14          1    110        $110.00               1   \n",
       "4     15883.0  2022-03-15          1    110        $110.00               1   \n",
       "\n",
       "   maximum_nights  \n",
       "0             365  \n",
       "1             365  \n",
       "2             365  \n",
       "3             365  \n",
       "4             365  "
      ]
     },
     "execution_count": 46,
     "metadata": {},
     "output_type": "execute_result"
    }
   ],
   "source": [
    "print(calendar_11_09['listing_id'].isnull().any())\n",
    "print(calendar_11_09['date'].isnull().any())\n",
    "print(calendar_10_03['date'].isnull().any())\n",
    "print(calendar_07_06['date'].isnull().any())\n",
    "print(calendar_11_09['available'].isnull().any())\n",
    "print(calendar_11_09['price'].isnull().any())\n",
    "print(calendar_11_09['adjusted_price'].isnull().any())\n",
    "print(calendar_11_09['minimum_nights'].isnull().any())\n",
    "print(calendar_11_09['maximum_nights'].isnull().any())\n",
    "calendar_10_03.head()"
   ]
  },
  {
   "cell_type": "code",
   "execution_count": 26,
   "metadata": {},
   "outputs": [
    {
     "name": "stderr",
     "output_type": "stream",
     "text": [
      "C:\\Users\\Jernej\\AppData\\Local\\Temp\\ipykernel_9900\\2752339981.py:1: FutureWarning: The default value of regex will change from True to False in a future version. In addition, single character regular expressions will *not* be treated as literal strings when regex=True.\n",
      "  calendar_11_09['price'] = calendar_11_09['price'].str.replace('$', '').str.replace(',','')\n"
     ]
    }
   ],
   "source": [
    "#change price str to int\n",
    "calendar_11_09['price'] = calendar_11_09['price'].str.replace('$', '').str.replace(',','')\n",
    "calendar_11_09['price'] = calendar_11_09['price'].astype('float').round(decimals=0)\n",
    "calendar_11_09['price'] = calendar_11_09['price'].astype('Int64')\n",
    "calendar_10_03['price'] = calendar_10_03['price'].str.replace('$', '').str.replace(',','')\n",
    "calendar_10_03['price'] = calendar_10_03['price'].astype('float').round(decimals=0)\n",
    "calendar_10_03['price'] = calendar_10_03['price'].astype('Int64')\n",
    "calendar_07_06['price'] = calendar_07_06['price'].str.replace('$', '').str.replace(',','')\n",
    "calendar_07_06['price'] = calendar_07_06['price'].astype('float').round(decimals=0)\n",
    "calendar_07_06['price'] = calendar_07_06['price'].astype('Int64')"
   ]
  },
  {
   "cell_type": "code",
   "execution_count": 47,
   "metadata": {},
   "outputs": [
    {
     "name": "stderr",
     "output_type": "stream",
     "text": [
      "C:\\Users\\Jernej\\AppData\\Local\\Temp\\ipykernel_9900\\2833606620.py:2: FutureWarning: The default value of regex will change from True to False in a future version. In addition, single character regular expressions will *not* be treated as literal strings when regex=True.\n",
      "  calendar_11_09['adjusted_price'] = calendar_11_09['adjusted_price'].str.replace('$', '').str.replace(',','')\n",
      "C:\\Users\\Jernej\\AppData\\Local\\Temp\\ipykernel_9900\\2833606620.py:5: FutureWarning: The default value of regex will change from True to False in a future version. In addition, single character regular expressions will *not* be treated as literal strings when regex=True.\n",
      "  calendar_10_03['adjusted_price'] = calendar_10_03['adjusted_price'].str.replace('$', '').str.replace(',','')\n",
      "C:\\Users\\Jernej\\AppData\\Local\\Temp\\ipykernel_9900\\2833606620.py:8: FutureWarning: The default value of regex will change from True to False in a future version. In addition, single character regular expressions will *not* be treated as literal strings when regex=True.\n",
      "  calendar_07_06['adjusted_price'] = calendar_07_06['adjusted_price'].str.replace('$', '').str.replace(',','')\n"
     ]
    }
   ],
   "source": [
    "#change adjusted_price str to int\n",
    "calendar_11_09['adjusted_price'] = calendar_11_09['adjusted_price'].str.replace('$', '').str.replace(',','')\n",
    "calendar_11_09['adjusted_price'] = calendar_11_09['adjusted_price'].astype('float').round(decimals=0)\n",
    "calendar_11_09['adjusted_price'] = calendar_11_09['adjusted_price'].astype('Int64')\n",
    "calendar_10_03['adjusted_price'] = calendar_10_03['adjusted_price'].str.replace('$', '').str.replace(',','')\n",
    "calendar_10_03['adjusted_price'] = calendar_10_03['adjusted_price'].astype('float').round(decimals=0)\n",
    "calendar_10_03['adjusted_price'] = calendar_10_03['adjusted_price'].astype('Int64')\n",
    "calendar_07_06['adjusted_price'] = calendar_07_06['adjusted_price'].str.replace('$', '').str.replace(',','')\n",
    "calendar_07_06['adjusted_price'] = calendar_07_06['adjusted_price'].astype('float').round(decimals=0)\n",
    "calendar_07_06['adjusted_price'] = calendar_07_06['adjusted_price'].astype('Int64')"
   ]
  },
  {
   "cell_type": "code",
   "execution_count": 35,
   "metadata": {},
   "outputs": [],
   "source": [
    "#transform id to float\n",
    "calendar_10_03 = calendar_10_03.astype({'listing_id':float})\n",
    "calendar_11_09 = calendar_11_09.astype({'listing_id':float})\n",
    "calendar_07_06 = calendar_07_06.astype({'listing_id':float})"
   ]
  },
  {
   "cell_type": "code",
   "execution_count": 45,
   "metadata": {},
   "outputs": [],
   "source": [
    "#transform float to id\n",
    "calendar_10_03 = calendar_10_03.astype({'minimum_nights':'Int64', 'maximum_nights':'Int64'})\n",
    "calendar_07_06 = calendar_07_06.astype({'minimum_nights':'Int64', 'maximum_nights':'Int64'})\n",
    "calendar_11_09 = calendar_11_09.astype({'minimum_nights':'Int64', 'maximum_nights':'Int64'})"
   ]
  },
  {
   "cell_type": "code",
   "execution_count": 36,
   "metadata": {},
   "outputs": [],
   "source": [
    "# host_is_superhost transform to boolean 1 and 0, null values stay\n",
    "calendar_10_03['available'] = calendar_10_03['available'].replace({'t': '1', 'f':'0'})\n",
    "calendar_10_03['available'] = pd.to_numeric(calendar_10_03['available'], errors='coerce')\n",
    "calendar_07_06['available'] = calendar_07_06['available'].replace({'t': '1', 'f':'0'})\n",
    "calendar_07_06['available'] = pd.to_numeric(calendar_07_06['available'], errors='coerce')\n",
    "calendar_11_09['available'] = calendar_11_09['available'].replace({'t': '1', 'f':'0'})\n",
    "calendar_11_09['available'] = pd.to_numeric(calendar_11_09['available'], errors='coerce')"
   ]
  },
  {
   "cell_type": "code",
   "execution_count": 49,
   "metadata": {},
   "outputs": [],
   "source": [
    "# Save to csv\n",
    "calendar_10_03.to_csv('../airbnb_data_vienna/csv/calendar_10_03.csv', header=calendar_10_03.columns, index=False, encoding='utf-8')\n",
    "calendar_07_06.to_csv('../airbnb_data_vienna/csv/calendar_07_06.csv', header=calendar_07_06.columns, index=False, encoding='utf-8')\n",
    "calendar_11_09.to_csv('../airbnb_data_vienna/csv/calendar_11_09.csv', header=calendar_11_09.columns, index=False, encoding='utf-8')"
   ]
  }
 ],
 "metadata": {
  "kernelspec": {
   "display_name": "Python 3",
   "language": "python",
   "name": "python3"
  },
  "language_info": {
   "codemirror_mode": {
    "name": "ipython",
    "version": 3
   },
   "file_extension": ".py",
   "mimetype": "text/x-python",
   "name": "python",
   "nbconvert_exporter": "python",
   "pygments_lexer": "ipython3",
   "version": "3.10.6"
  },
  "orig_nbformat": 4,
  "vscode": {
   "interpreter": {
    "hash": "52634da84371cba311ea128a5ea7cdc41ff074b781779e754b270ff9f8153cee"
   }
  }
 },
 "nbformat": 4,
 "nbformat_minor": 2
}
