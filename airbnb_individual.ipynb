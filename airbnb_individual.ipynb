{
 "cells": [
  {
   "cell_type": "code",
   "execution_count": 1,
   "metadata": {},
   "outputs": [],
   "source": [
    "import pandas as pd\n",
    "import numpy as np\n",
    "import os\n",
    "import psycopg2 as pg\n",
    "from sqlalchemy import create_engine\n",
    "import plotly.express as px\n",
    "import matplotlib.pyplot as plt\n",
    "from wordcloud import WordCloud, STOPWORDS\n",
    "import seaborn as sns\n",
    "%matplotlib inline"
   ]
  },
  {
   "cell_type": "code",
   "execution_count": 2,
   "metadata": {},
   "outputs": [
    {
     "name": "stdout",
     "output_type": "stream",
     "text": [
      "Connection to the database-airbnb.cl4bob5uux9z.us-west-1.rds.amazonaws.com for user postgres created successfully.\n"
     ]
    }
   ],
   "source": [
    "#db settings\n",
    "host = 'database-airbnb.cl4bob5uux9z.us-west-1.rds.amazonaws.com'\n",
    "dbname= 'postgres'\n",
    "user ='postgres'\n",
    "port = 5432\n",
    "password ='geslozapostgre123'\n",
    "\n",
    "# PYTHON FUNCTION TO CONNECT TO THE POSTGRESQL DATABASE AND\n",
    "# RETURN THE SQLACHEMY ENGINE OBJECT\n",
    "def get_connection():\n",
    "    return create_engine(\n",
    "        url=\"postgresql://{0}:{1}@{2}:{3}/{4}\".format(\n",
    "            user, password, host, port, dbname\n",
    "        )\n",
    "    )\n",
    "  \n",
    "  \n",
    "if __name__ == '__main__':\n",
    "  \n",
    "    try:\n",
    "        # GET THE CONNECTION OBJECT (ENGINE) FOR THE DATABASE\n",
    "        engine = get_connection()\n",
    "        print(\n",
    "            f\"Connection to the {host} for user {user} created successfully.\")\n",
    "    except Exception as ex:\n",
    "        print(\"Connection could not be made due to the following error: \\n\", ex)"
   ]
  },
  {
   "cell_type": "code",
   "execution_count": 77,
   "metadata": {},
   "outputs": [
    {
     "data": {
      "text/html": [
       "<div>\n",
       "<style scoped>\n",
       "    .dataframe tbody tr th:only-of-type {\n",
       "        vertical-align: middle;\n",
       "    }\n",
       "\n",
       "    .dataframe tbody tr th {\n",
       "        vertical-align: top;\n",
       "    }\n",
       "\n",
       "    .dataframe thead th {\n",
       "        text-align: right;\n",
       "    }\n",
       "</style>\n",
       "<table border=\"1\" class=\"dataframe\">\n",
       "  <thead>\n",
       "    <tr style=\"text-align: right;\">\n",
       "      <th></th>\n",
       "      <th>host_id</th>\n",
       "      <th>host_name</th>\n",
       "      <th>room_type</th>\n",
       "      <th>min_nights</th>\n",
       "      <th>nr_listings</th>\n",
       "      <th>accommodates</th>\n",
       "      <th>price</th>\n",
       "      <th>number_of_reviews_year</th>\n",
       "      <th>avg_rating</th>\n",
       "      <th>scores_avg</th>\n",
       "      <th>clean_avg</th>\n",
       "      <th>checkin_avg</th>\n",
       "      <th>comm_avg</th>\n",
       "      <th>location_avg</th>\n",
       "      <th>val_avg</th>\n",
       "    </tr>\n",
       "  </thead>\n",
       "  <tbody>\n",
       "    <tr>\n",
       "      <th>34</th>\n",
       "      <td>149786100.0</td>\n",
       "      <td>Christoph</td>\n",
       "      <td>Entire home/apt</td>\n",
       "      <td>1</td>\n",
       "      <td>1</td>\n",
       "      <td>2</td>\n",
       "      <td>45.0</td>\n",
       "      <td>44.0</td>\n",
       "      <td>4.72</td>\n",
       "      <td>4.55</td>\n",
       "      <td>4.56</td>\n",
       "      <td>4.86</td>\n",
       "      <td>4.79</td>\n",
       "      <td>4.96</td>\n",
       "      <td>4.53</td>\n",
       "    </tr>\n",
       "    <tr>\n",
       "      <th>1</th>\n",
       "      <td>833967.0</td>\n",
       "      <td>Annemarie And Motti</td>\n",
       "      <td>Entire home/apt</td>\n",
       "      <td>1</td>\n",
       "      <td>1</td>\n",
       "      <td>2</td>\n",
       "      <td>31.0</td>\n",
       "      <td>42.0</td>\n",
       "      <td>4.80</td>\n",
       "      <td>4.68</td>\n",
       "      <td>4.77</td>\n",
       "      <td>4.94</td>\n",
       "      <td>4.94</td>\n",
       "      <td>4.78</td>\n",
       "      <td>4.74</td>\n",
       "    </tr>\n",
       "    <tr>\n",
       "      <th>54</th>\n",
       "      <td>335869217.0</td>\n",
       "      <td>Anna</td>\n",
       "      <td>Entire home/apt</td>\n",
       "      <td>1</td>\n",
       "      <td>1</td>\n",
       "      <td>2</td>\n",
       "      <td>59.0</td>\n",
       "      <td>41.0</td>\n",
       "      <td>4.57</td>\n",
       "      <td>4.37</td>\n",
       "      <td>4.20</td>\n",
       "      <td>4.73</td>\n",
       "      <td>4.76</td>\n",
       "      <td>4.88</td>\n",
       "      <td>4.37</td>\n",
       "    </tr>\n",
       "    <tr>\n",
       "      <th>39</th>\n",
       "      <td>164523634.0</td>\n",
       "      <td>Mario</td>\n",
       "      <td>Entire home/apt</td>\n",
       "      <td>1</td>\n",
       "      <td>1</td>\n",
       "      <td>3</td>\n",
       "      <td>67.0</td>\n",
       "      <td>38.0</td>\n",
       "      <td>4.70</td>\n",
       "      <td>4.69</td>\n",
       "      <td>4.55</td>\n",
       "      <td>4.87</td>\n",
       "      <td>4.55</td>\n",
       "      <td>4.85</td>\n",
       "      <td>4.65</td>\n",
       "    </tr>\n",
       "    <tr>\n",
       "      <th>25</th>\n",
       "      <td>52428878.0</td>\n",
       "      <td>Ogi</td>\n",
       "      <td>Entire home/apt</td>\n",
       "      <td>1</td>\n",
       "      <td>1</td>\n",
       "      <td>2</td>\n",
       "      <td>45.0</td>\n",
       "      <td>37.0</td>\n",
       "      <td>4.66</td>\n",
       "      <td>4.57</td>\n",
       "      <td>4.28</td>\n",
       "      <td>4.74</td>\n",
       "      <td>4.82</td>\n",
       "      <td>4.83</td>\n",
       "      <td>4.67</td>\n",
       "    </tr>\n",
       "    <tr>\n",
       "      <th>53</th>\n",
       "      <td>318961878.0</td>\n",
       "      <td>Mel</td>\n",
       "      <td>Entire home/apt</td>\n",
       "      <td>1</td>\n",
       "      <td>1</td>\n",
       "      <td>2</td>\n",
       "      <td>43.0</td>\n",
       "      <td>31.0</td>\n",
       "      <td>4.45</td>\n",
       "      <td>4.22</td>\n",
       "      <td>3.84</td>\n",
       "      <td>4.75</td>\n",
       "      <td>4.81</td>\n",
       "      <td>4.66</td>\n",
       "      <td>4.34</td>\n",
       "    </tr>\n",
       "    <tr>\n",
       "      <th>51</th>\n",
       "      <td>300103129.0</td>\n",
       "      <td>Rudolf</td>\n",
       "      <td>Entire home/apt</td>\n",
       "      <td>1</td>\n",
       "      <td>1</td>\n",
       "      <td>2</td>\n",
       "      <td>61.0</td>\n",
       "      <td>30.0</td>\n",
       "      <td>4.56</td>\n",
       "      <td>4.36</td>\n",
       "      <td>4.17</td>\n",
       "      <td>4.82</td>\n",
       "      <td>4.77</td>\n",
       "      <td>4.83</td>\n",
       "      <td>4.42</td>\n",
       "    </tr>\n",
       "    <tr>\n",
       "      <th>29</th>\n",
       "      <td>70495983.0</td>\n",
       "      <td>Han</td>\n",
       "      <td>Entire home/apt</td>\n",
       "      <td>1</td>\n",
       "      <td>1</td>\n",
       "      <td>5</td>\n",
       "      <td>83.0</td>\n",
       "      <td>29.0</td>\n",
       "      <td>4.76</td>\n",
       "      <td>4.63</td>\n",
       "      <td>4.57</td>\n",
       "      <td>4.93</td>\n",
       "      <td>4.90</td>\n",
       "      <td>4.87</td>\n",
       "      <td>4.61</td>\n",
       "    </tr>\n",
       "    <tr>\n",
       "      <th>20</th>\n",
       "      <td>35275274.0</td>\n",
       "      <td>Boris</td>\n",
       "      <td>Entire home/apt</td>\n",
       "      <td>1</td>\n",
       "      <td>1</td>\n",
       "      <td>2</td>\n",
       "      <td>44.0</td>\n",
       "      <td>25.0</td>\n",
       "      <td>4.90</td>\n",
       "      <td>4.88</td>\n",
       "      <td>4.82</td>\n",
       "      <td>4.98</td>\n",
       "      <td>4.97</td>\n",
       "      <td>4.90</td>\n",
       "      <td>4.81</td>\n",
       "    </tr>\n",
       "    <tr>\n",
       "      <th>33</th>\n",
       "      <td>116849625.0</td>\n",
       "      <td>Diana</td>\n",
       "      <td>Entire home/apt</td>\n",
       "      <td>1</td>\n",
       "      <td>1</td>\n",
       "      <td>4</td>\n",
       "      <td>62.0</td>\n",
       "      <td>22.0</td>\n",
       "      <td>4.59</td>\n",
       "      <td>4.30</td>\n",
       "      <td>4.33</td>\n",
       "      <td>4.94</td>\n",
       "      <td>4.76</td>\n",
       "      <td>4.94</td>\n",
       "      <td>4.43</td>\n",
       "    </tr>\n",
       "    <tr>\n",
       "      <th>57</th>\n",
       "      <td>383918683.0</td>\n",
       "      <td>Aris</td>\n",
       "      <td>Entire home/apt</td>\n",
       "      <td>1</td>\n",
       "      <td>1</td>\n",
       "      <td>3</td>\n",
       "      <td>48.0</td>\n",
       "      <td>14.0</td>\n",
       "      <td>4.55</td>\n",
       "      <td>4.50</td>\n",
       "      <td>4.00</td>\n",
       "      <td>4.71</td>\n",
       "      <td>4.93</td>\n",
       "      <td>5.00</td>\n",
       "      <td>4.57</td>\n",
       "    </tr>\n",
       "    <tr>\n",
       "      <th>18</th>\n",
       "      <td>28851771.0</td>\n",
       "      <td>Michael</td>\n",
       "      <td>Entire home/apt</td>\n",
       "      <td>1</td>\n",
       "      <td>1</td>\n",
       "      <td>2</td>\n",
       "      <td>69.0</td>\n",
       "      <td>14.0</td>\n",
       "      <td>4.79</td>\n",
       "      <td>4.75</td>\n",
       "      <td>4.81</td>\n",
       "      <td>4.81</td>\n",
       "      <td>4.82</td>\n",
       "      <td>4.88</td>\n",
       "      <td>4.67</td>\n",
       "    </tr>\n",
       "    <tr>\n",
       "      <th>17</th>\n",
       "      <td>28743480.0</td>\n",
       "      <td>Peter</td>\n",
       "      <td>Entire home/apt</td>\n",
       "      <td>1</td>\n",
       "      <td>1</td>\n",
       "      <td>4</td>\n",
       "      <td>79.0</td>\n",
       "      <td>13.0</td>\n",
       "      <td>4.95</td>\n",
       "      <td>4.98</td>\n",
       "      <td>4.88</td>\n",
       "      <td>4.99</td>\n",
       "      <td>4.99</td>\n",
       "      <td>4.99</td>\n",
       "      <td>4.88</td>\n",
       "    </tr>\n",
       "    <tr>\n",
       "      <th>3</th>\n",
       "      <td>1310252.0</td>\n",
       "      <td>Maria</td>\n",
       "      <td>Entire home/apt</td>\n",
       "      <td>1</td>\n",
       "      <td>1</td>\n",
       "      <td>5</td>\n",
       "      <td>54.0</td>\n",
       "      <td>12.0</td>\n",
       "      <td>4.75</td>\n",
       "      <td>4.61</td>\n",
       "      <td>4.53</td>\n",
       "      <td>4.88</td>\n",
       "      <td>4.91</td>\n",
       "      <td>4.85</td>\n",
       "      <td>4.64</td>\n",
       "    </tr>\n",
       "    <tr>\n",
       "      <th>35</th>\n",
       "      <td>154546193.0</td>\n",
       "      <td>Julia</td>\n",
       "      <td>Private room</td>\n",
       "      <td>1</td>\n",
       "      <td>1</td>\n",
       "      <td>2</td>\n",
       "      <td>34.0</td>\n",
       "      <td>9.0</td>\n",
       "      <td>4.89</td>\n",
       "      <td>5.00</td>\n",
       "      <td>4.56</td>\n",
       "      <td>4.89</td>\n",
       "      <td>5.00</td>\n",
       "      <td>5.00</td>\n",
       "      <td>4.89</td>\n",
       "    </tr>\n",
       "    <tr>\n",
       "      <th>41</th>\n",
       "      <td>188455952.0</td>\n",
       "      <td>Heidi Elisabeth</td>\n",
       "      <td>Entire home/apt</td>\n",
       "      <td>1</td>\n",
       "      <td>1</td>\n",
       "      <td>4</td>\n",
       "      <td>82.0</td>\n",
       "      <td>9.0</td>\n",
       "      <td>4.85</td>\n",
       "      <td>4.80</td>\n",
       "      <td>4.89</td>\n",
       "      <td>4.85</td>\n",
       "      <td>4.85</td>\n",
       "      <td>4.95</td>\n",
       "      <td>4.80</td>\n",
       "    </tr>\n",
       "    <tr>\n",
       "      <th>48</th>\n",
       "      <td>236458068.0</td>\n",
       "      <td>Oliver</td>\n",
       "      <td>Entire home/apt</td>\n",
       "      <td>1</td>\n",
       "      <td>1</td>\n",
       "      <td>6</td>\n",
       "      <td>73.0</td>\n",
       "      <td>9.0</td>\n",
       "      <td>4.84</td>\n",
       "      <td>4.71</td>\n",
       "      <td>4.82</td>\n",
       "      <td>4.88</td>\n",
       "      <td>4.86</td>\n",
       "      <td>4.98</td>\n",
       "      <td>4.82</td>\n",
       "    </tr>\n",
       "    <tr>\n",
       "      <th>59</th>\n",
       "      <td>408892541.0</td>\n",
       "      <td>Alin</td>\n",
       "      <td>Entire home/apt</td>\n",
       "      <td>1</td>\n",
       "      <td>1</td>\n",
       "      <td>2</td>\n",
       "      <td>32.0</td>\n",
       "      <td>9.0</td>\n",
       "      <td>4.98</td>\n",
       "      <td>5.00</td>\n",
       "      <td>5.00</td>\n",
       "      <td>5.00</td>\n",
       "      <td>5.00</td>\n",
       "      <td>4.89</td>\n",
       "      <td>5.00</td>\n",
       "    </tr>\n",
       "    <tr>\n",
       "      <th>2</th>\n",
       "      <td>900817.0</td>\n",
       "      <td>Kathrin</td>\n",
       "      <td>Entire home/apt</td>\n",
       "      <td>1</td>\n",
       "      <td>1</td>\n",
       "      <td>2</td>\n",
       "      <td>90.0</td>\n",
       "      <td>8.0</td>\n",
       "      <td>4.83</td>\n",
       "      <td>4.80</td>\n",
       "      <td>4.93</td>\n",
       "      <td>5.00</td>\n",
       "      <td>4.80</td>\n",
       "      <td>4.67</td>\n",
       "      <td>4.73</td>\n",
       "    </tr>\n",
       "    <tr>\n",
       "      <th>58</th>\n",
       "      <td>399620921.0</td>\n",
       "      <td>Trang</td>\n",
       "      <td>Private room</td>\n",
       "      <td>1</td>\n",
       "      <td>1</td>\n",
       "      <td>2</td>\n",
       "      <td>26.0</td>\n",
       "      <td>7.0</td>\n",
       "      <td>5.00</td>\n",
       "      <td>5.00</td>\n",
       "      <td>5.00</td>\n",
       "      <td>5.00</td>\n",
       "      <td>5.00</td>\n",
       "      <td>5.00</td>\n",
       "      <td>5.00</td>\n",
       "    </tr>\n",
       "  </tbody>\n",
       "</table>\n",
       "</div>"
      ],
      "text/plain": [
       "        host_id            host_name        room_type  min_nights  \\\n",
       "34  149786100.0            Christoph  Entire home/apt           1   \n",
       "1      833967.0  Annemarie And Motti  Entire home/apt           1   \n",
       "54  335869217.0                 Anna  Entire home/apt           1   \n",
       "39  164523634.0                Mario  Entire home/apt           1   \n",
       "25   52428878.0                  Ogi  Entire home/apt           1   \n",
       "53  318961878.0                  Mel  Entire home/apt           1   \n",
       "51  300103129.0               Rudolf  Entire home/apt           1   \n",
       "29   70495983.0                  Han  Entire home/apt           1   \n",
       "20   35275274.0                Boris  Entire home/apt           1   \n",
       "33  116849625.0                Diana  Entire home/apt           1   \n",
       "57  383918683.0                 Aris  Entire home/apt           1   \n",
       "18   28851771.0              Michael  Entire home/apt           1   \n",
       "17   28743480.0                Peter  Entire home/apt           1   \n",
       "3     1310252.0                Maria  Entire home/apt           1   \n",
       "35  154546193.0                Julia     Private room           1   \n",
       "41  188455952.0      Heidi Elisabeth  Entire home/apt           1   \n",
       "48  236458068.0               Oliver  Entire home/apt           1   \n",
       "59  408892541.0                 Alin  Entire home/apt           1   \n",
       "2      900817.0              Kathrin  Entire home/apt           1   \n",
       "58  399620921.0                Trang     Private room           1   \n",
       "\n",
       "    nr_listings  accommodates  price  number_of_reviews_year  avg_rating  \\\n",
       "34            1             2   45.0                    44.0        4.72   \n",
       "1             1             2   31.0                    42.0        4.80   \n",
       "54            1             2   59.0                    41.0        4.57   \n",
       "39            1             3   67.0                    38.0        4.70   \n",
       "25            1             2   45.0                    37.0        4.66   \n",
       "53            1             2   43.0                    31.0        4.45   \n",
       "51            1             2   61.0                    30.0        4.56   \n",
       "29            1             5   83.0                    29.0        4.76   \n",
       "20            1             2   44.0                    25.0        4.90   \n",
       "33            1             4   62.0                    22.0        4.59   \n",
       "57            1             3   48.0                    14.0        4.55   \n",
       "18            1             2   69.0                    14.0        4.79   \n",
       "17            1             4   79.0                    13.0        4.95   \n",
       "3             1             5   54.0                    12.0        4.75   \n",
       "35            1             2   34.0                     9.0        4.89   \n",
       "41            1             4   82.0                     9.0        4.85   \n",
       "48            1             6   73.0                     9.0        4.84   \n",
       "59            1             2   32.0                     9.0        4.98   \n",
       "2             1             2   90.0                     8.0        4.83   \n",
       "58            1             2   26.0                     7.0        5.00   \n",
       "\n",
       "    scores_avg  clean_avg  checkin_avg  comm_avg  location_avg  val_avg  \n",
       "34        4.55       4.56         4.86      4.79          4.96     4.53  \n",
       "1         4.68       4.77         4.94      4.94          4.78     4.74  \n",
       "54        4.37       4.20         4.73      4.76          4.88     4.37  \n",
       "39        4.69       4.55         4.87      4.55          4.85     4.65  \n",
       "25        4.57       4.28         4.74      4.82          4.83     4.67  \n",
       "53        4.22       3.84         4.75      4.81          4.66     4.34  \n",
       "51        4.36       4.17         4.82      4.77          4.83     4.42  \n",
       "29        4.63       4.57         4.93      4.90          4.87     4.61  \n",
       "20        4.88       4.82         4.98      4.97          4.90     4.81  \n",
       "33        4.30       4.33         4.94      4.76          4.94     4.43  \n",
       "57        4.50       4.00         4.71      4.93          5.00     4.57  \n",
       "18        4.75       4.81         4.81      4.82          4.88     4.67  \n",
       "17        4.98       4.88         4.99      4.99          4.99     4.88  \n",
       "3         4.61       4.53         4.88      4.91          4.85     4.64  \n",
       "35        5.00       4.56         4.89      5.00          5.00     4.89  \n",
       "41        4.80       4.89         4.85      4.85          4.95     4.80  \n",
       "48        4.71       4.82         4.88      4.86          4.98     4.82  \n",
       "59        5.00       5.00         5.00      5.00          4.89     5.00  \n",
       "2         4.80       4.93         5.00      4.80          4.67     4.73  \n",
       "58        5.00       5.00         5.00      5.00          5.00     5.00  "
      ]
     },
     "execution_count": 77,
     "metadata": {},
     "output_type": "execute_result"
    }
   ],
   "source": [
    "query = \"SELECT host_id, host_name, room_type, COUNT (DISTINCT minimum_nights) as min_nights, \\\n",
    "COUNT (DISTINCT id) as nr_listings, MAX (accommodates) as accommodates, \\\n",
    "CAST(AVG(DISTINCT price) as decimal(10)) as price, SUM (number_of_reviews_ltm) AS number_of_reviews_year, \\\n",
    "CAST(AVG(avg_score_rating) as DECIMAL(10,2)) as avg_rating, \\\n",
    "CAST(AVG (review_scores_rating) as DECIMAL(10,2)) AS scores_avg, CAST(AVG (review_scores_cleanliness) as DECIMAL(10,2)) AS clean_avg, \\\n",
    "CAST(AVG (review_scores_checkin) as DECIMAL(10,2)) AS checkin_avg, CAST(AVG (review_scores_communication) as DECIMAL(10,2)) AS comm_avg, \\\n",
    "CAST(AVG (review_scores_location) as DECIMAL(10,2)) AS location_avg, CAST(AVG (review_scores_value) as DECIMAL(10,2)) AS val_avg \\\n",
    "FROM listings WHERE number_of_reviews_ltm > 0 AND \\\n",
    "host_is_superhost = 0 AND neighbourhood = 'Wieden'\\\n",
    "GROUP BY host_id, host_name, room_type \\\n",
    "HAVING COUNT (DISTINCT id) = 1\"\n",
    "potential_listings_wieden = pd.read_sql_query(query, con=engine)\n",
    "potential_listings_wieden.sort_values(by=['number_of_reviews_year'], ascending=False).head(20)"
   ]
  },
  {
   "cell_type": "code",
   "execution_count": 4,
   "metadata": {},
   "outputs": [
    {
     "data": {
      "text/html": [
       "<div>\n",
       "<style scoped>\n",
       "    .dataframe tbody tr th:only-of-type {\n",
       "        vertical-align: middle;\n",
       "    }\n",
       "\n",
       "    .dataframe tbody tr th {\n",
       "        vertical-align: top;\n",
       "    }\n",
       "\n",
       "    .dataframe thead th {\n",
       "        text-align: right;\n",
       "    }\n",
       "</style>\n",
       "<table border=\"1\" class=\"dataframe\">\n",
       "  <thead>\n",
       "    <tr style=\"text-align: right;\">\n",
       "      <th></th>\n",
       "      <th>id</th>\n",
       "      <th>name</th>\n",
       "      <th>host_id</th>\n",
       "      <th>host_name</th>\n",
       "      <th>neighbourhood</th>\n",
       "      <th>latitude</th>\n",
       "      <th>longitude</th>\n",
       "      <th>room_type</th>\n",
       "      <th>price</th>\n",
       "      <th>minimum_nights</th>\n",
       "      <th>...</th>\n",
       "      <th>accommodates</th>\n",
       "      <th>review_scores_rating</th>\n",
       "      <th>review_scores_accuracy</th>\n",
       "      <th>review_scores_cleanliness</th>\n",
       "      <th>review_scores_checkin</th>\n",
       "      <th>review_scores_communication</th>\n",
       "      <th>review_scores_location</th>\n",
       "      <th>review_scores_value</th>\n",
       "      <th>instant_bookable</th>\n",
       "      <th>avg_score_rating</th>\n",
       "    </tr>\n",
       "  </thead>\n",
       "  <tbody>\n",
       "    <tr>\n",
       "      <th>0</th>\n",
       "      <td>242141.0</td>\n",
       "      <td>Vienna terrace-apartment  on U1/Central Station</td>\n",
       "      <td>1310252.0</td>\n",
       "      <td>Maria</td>\n",
       "      <td>Wieden</td>\n",
       "      <td>48.18746</td>\n",
       "      <td>16.37478</td>\n",
       "      <td>Entire home/apt</td>\n",
       "      <td>54.0</td>\n",
       "      <td>1.0</td>\n",
       "      <td>...</td>\n",
       "      <td>5</td>\n",
       "      <td>4.61</td>\n",
       "      <td>4.80</td>\n",
       "      <td>4.53</td>\n",
       "      <td>4.88</td>\n",
       "      <td>4.91</td>\n",
       "      <td>4.85</td>\n",
       "      <td>4.64</td>\n",
       "      <td>1</td>\n",
       "      <td>4.75</td>\n",
       "    </tr>\n",
       "    <tr>\n",
       "      <th>1</th>\n",
       "      <td>272589.0</td>\n",
       "      <td>Cozy Studio Apt - directly in the heart of Vie...</td>\n",
       "      <td>1426583.0</td>\n",
       "      <td>Cecilia &amp; Walfried</td>\n",
       "      <td>Wieden</td>\n",
       "      <td>48.19916</td>\n",
       "      <td>16.36657</td>\n",
       "      <td>Entire home/apt</td>\n",
       "      <td>139.0</td>\n",
       "      <td>14.0</td>\n",
       "      <td>...</td>\n",
       "      <td>3</td>\n",
       "      <td>5.00</td>\n",
       "      <td>4.86</td>\n",
       "      <td>5.00</td>\n",
       "      <td>5.00</td>\n",
       "      <td>5.00</td>\n",
       "      <td>5.00</td>\n",
       "      <td>4.71</td>\n",
       "      <td>0</td>\n",
       "      <td>4.94</td>\n",
       "    </tr>\n",
       "    <tr>\n",
       "      <th>2</th>\n",
       "      <td>275667.0</td>\n",
       "      <td>NEWLY RENOVATED DOWNTOWN FLAT #7</td>\n",
       "      <td>1440944.0</td>\n",
       "      <td>Stephanie</td>\n",
       "      <td>Wieden</td>\n",
       "      <td>48.19204</td>\n",
       "      <td>16.36592</td>\n",
       "      <td>Entire home/apt</td>\n",
       "      <td>42.0</td>\n",
       "      <td>2.0</td>\n",
       "      <td>...</td>\n",
       "      <td>2</td>\n",
       "      <td>4.78</td>\n",
       "      <td>4.88</td>\n",
       "      <td>4.81</td>\n",
       "      <td>4.77</td>\n",
       "      <td>4.51</td>\n",
       "      <td>4.86</td>\n",
       "      <td>4.71</td>\n",
       "      <td>1</td>\n",
       "      <td>4.76</td>\n",
       "    </tr>\n",
       "    <tr>\n",
       "      <th>3</th>\n",
       "      <td>275668.0</td>\n",
       "      <td>UR OWN DOWNTOWN VIENNA FLAT #15</td>\n",
       "      <td>1440944.0</td>\n",
       "      <td>Stephanie</td>\n",
       "      <td>Wieden</td>\n",
       "      <td>48.19328</td>\n",
       "      <td>16.36755</td>\n",
       "      <td>Entire home/apt</td>\n",
       "      <td>50.0</td>\n",
       "      <td>2.0</td>\n",
       "      <td>...</td>\n",
       "      <td>4</td>\n",
       "      <td>4.70</td>\n",
       "      <td>4.83</td>\n",
       "      <td>4.75</td>\n",
       "      <td>4.80</td>\n",
       "      <td>4.50</td>\n",
       "      <td>4.86</td>\n",
       "      <td>4.76</td>\n",
       "      <td>1</td>\n",
       "      <td>4.74</td>\n",
       "    </tr>\n",
       "    <tr>\n",
       "      <th>4</th>\n",
       "      <td>289195.0</td>\n",
       "      <td>Apartment Kalrskirche 1</td>\n",
       "      <td>685572.0</td>\n",
       "      <td>Christoph</td>\n",
       "      <td>Wieden</td>\n",
       "      <td>48.19762</td>\n",
       "      <td>16.37036</td>\n",
       "      <td>Entire home/apt</td>\n",
       "      <td>216.0</td>\n",
       "      <td>3.0</td>\n",
       "      <td>...</td>\n",
       "      <td>7</td>\n",
       "      <td>4.93</td>\n",
       "      <td>4.93</td>\n",
       "      <td>4.90</td>\n",
       "      <td>4.93</td>\n",
       "      <td>4.90</td>\n",
       "      <td>4.93</td>\n",
       "      <td>4.76</td>\n",
       "      <td>1</td>\n",
       "      <td>4.90</td>\n",
       "    </tr>\n",
       "  </tbody>\n",
       "</table>\n",
       "<p>5 rows × 31 columns</p>\n",
       "</div>"
      ],
      "text/plain": [
       "         id                                               name    host_id  \\\n",
       "0  242141.0    Vienna terrace-apartment  on U1/Central Station  1310252.0   \n",
       "1  272589.0  Cozy Studio Apt - directly in the heart of Vie...  1426583.0   \n",
       "2  275667.0                   NEWLY RENOVATED DOWNTOWN FLAT #7  1440944.0   \n",
       "3  275668.0                    UR OWN DOWNTOWN VIENNA FLAT #15  1440944.0   \n",
       "4  289195.0                            Apartment Kalrskirche 1   685572.0   \n",
       "\n",
       "            host_name neighbourhood  latitude  longitude        room_type  \\\n",
       "0               Maria        Wieden  48.18746   16.37478  Entire home/apt   \n",
       "1  Cecilia & Walfried        Wieden  48.19916   16.36657  Entire home/apt   \n",
       "2           Stephanie        Wieden  48.19204   16.36592  Entire home/apt   \n",
       "3           Stephanie        Wieden  48.19328   16.36755  Entire home/apt   \n",
       "4           Christoph        Wieden  48.19762   16.37036  Entire home/apt   \n",
       "\n",
       "   price  minimum_nights  ...  accommodates review_scores_rating  \\\n",
       "0   54.0             1.0  ...             5                 4.61   \n",
       "1  139.0            14.0  ...             3                 5.00   \n",
       "2   42.0             2.0  ...             2                 4.78   \n",
       "3   50.0             2.0  ...             4                 4.70   \n",
       "4  216.0             3.0  ...             7                 4.93   \n",
       "\n",
       "   review_scores_accuracy  review_scores_cleanliness  review_scores_checkin  \\\n",
       "0                    4.80                       4.53                   4.88   \n",
       "1                    4.86                       5.00                   5.00   \n",
       "2                    4.88                       4.81                   4.77   \n",
       "3                    4.83                       4.75                   4.80   \n",
       "4                    4.93                       4.90                   4.93   \n",
       "\n",
       "   review_scores_communication review_scores_location  review_scores_value  \\\n",
       "0                         4.91                   4.85                 4.64   \n",
       "1                         5.00                   5.00                 4.71   \n",
       "2                         4.51                   4.86                 4.71   \n",
       "3                         4.50                   4.86                 4.76   \n",
       "4                         4.90                   4.93                 4.76   \n",
       "\n",
       "   instant_bookable  avg_score_rating  \n",
       "0                 1              4.75  \n",
       "1                 0              4.94  \n",
       "2                 1              4.76  \n",
       "3                 1              4.74  \n",
       "4                 1              4.90  \n",
       "\n",
       "[5 rows x 31 columns]"
      ]
     },
     "execution_count": 4,
     "metadata": {},
     "output_type": "execute_result"
    }
   ],
   "source": [
    "listings = pd.read_sql_query(\"SELECT * FROM listings WHERE neighbourhood = 'Wieden' and room_type = 'Entire home/apt'\", con=engine)\n",
    "listings.head()"
   ]
  },
  {
   "cell_type": "code",
   "execution_count": null,
   "metadata": {},
   "outputs": [],
   "source": [
    "15883.0\n",
    "listings_test = pd.read_sql_query(\"SELECT * FROM listings WHERE host_id =\", con=engine)\n",
    "listings_test.head()"
   ]
  },
  {
   "cell_type": "code",
   "execution_count": 72,
   "metadata": {},
   "outputs": [
    {
     "data": {
      "text/html": [
       "<div>\n",
       "<style scoped>\n",
       "    .dataframe tbody tr th:only-of-type {\n",
       "        vertical-align: middle;\n",
       "    }\n",
       "\n",
       "    .dataframe tbody tr th {\n",
       "        vertical-align: top;\n",
       "    }\n",
       "\n",
       "    .dataframe thead th {\n",
       "        text-align: right;\n",
       "    }\n",
       "</style>\n",
       "<table border=\"1\" class=\"dataframe\">\n",
       "  <thead>\n",
       "    <tr style=\"text-align: right;\">\n",
       "      <th></th>\n",
       "      <th>id</th>\n",
       "      <th>name</th>\n",
       "      <th>host_id</th>\n",
       "      <th>host_name</th>\n",
       "      <th>neighbourhood</th>\n",
       "      <th>latitude</th>\n",
       "      <th>longitude</th>\n",
       "      <th>room_type</th>\n",
       "      <th>price</th>\n",
       "      <th>minimum_nights</th>\n",
       "      <th>...</th>\n",
       "      <th>accommodates</th>\n",
       "      <th>review_scores_rating</th>\n",
       "      <th>review_scores_accuracy</th>\n",
       "      <th>review_scores_cleanliness</th>\n",
       "      <th>review_scores_checkin</th>\n",
       "      <th>review_scores_communication</th>\n",
       "      <th>review_scores_location</th>\n",
       "      <th>review_scores_value</th>\n",
       "      <th>instant_bookable</th>\n",
       "      <th>avg_score_rating</th>\n",
       "    </tr>\n",
       "  </thead>\n",
       "  <tbody>\n",
       "    <tr>\n",
       "      <th>262</th>\n",
       "      <td>39970114.0</td>\n",
       "      <td>Beautiful Apartment in the middle of the Center</td>\n",
       "      <td>116849625.0</td>\n",
       "      <td>Diana</td>\n",
       "      <td>Wieden</td>\n",
       "      <td>48.19581</td>\n",
       "      <td>16.37289</td>\n",
       "      <td>Entire home/apt</td>\n",
       "      <td>62.0</td>\n",
       "      <td>1.0</td>\n",
       "      <td>...</td>\n",
       "      <td>4</td>\n",
       "      <td>4.3</td>\n",
       "      <td>4.46</td>\n",
       "      <td>4.33</td>\n",
       "      <td>4.94</td>\n",
       "      <td>4.76</td>\n",
       "      <td>4.94</td>\n",
       "      <td>4.43</td>\n",
       "      <td>1</td>\n",
       "      <td>4.59</td>\n",
       "    </tr>\n",
       "  </tbody>\n",
       "</table>\n",
       "<p>1 rows × 31 columns</p>\n",
       "</div>"
      ],
      "text/plain": [
       "             id                                             name      host_id  \\\n",
       "262  39970114.0  Beautiful Apartment in the middle of the Center  116849625.0   \n",
       "\n",
       "    host_name neighbourhood  latitude  longitude        room_type  price  \\\n",
       "262     Diana        Wieden  48.19581   16.37289  Entire home/apt   62.0   \n",
       "\n",
       "     minimum_nights  ...  accommodates review_scores_rating  \\\n",
       "262             1.0  ...             4                  4.3   \n",
       "\n",
       "     review_scores_accuracy  review_scores_cleanliness  review_scores_checkin  \\\n",
       "262                    4.46                       4.33                   4.94   \n",
       "\n",
       "     review_scores_communication review_scores_location  review_scores_value  \\\n",
       "262                         4.76                   4.94                 4.43   \n",
       "\n",
       "     instant_bookable  avg_score_rating  \n",
       "262                 1              4.59  \n",
       "\n",
       "[1 rows x 31 columns]"
      ]
     },
     "execution_count": 72,
     "metadata": {},
     "output_type": "execute_result"
    }
   ],
   "source": [
    "# query for host, rating distribution\n",
    "listings_single = listings.query(\"host_id == 116849625.0\")\n",
    "listings_single"
   ]
  },
  {
   "cell_type": "code",
   "execution_count": 73,
   "metadata": {},
   "outputs": [],
   "source": [
    "#find room type of host to compare\n",
    "listings_types = listings.query(\"neighbourhood == 'Wieden' & room_type == 'Entire home/apt' & host_is_superhost == 0 & price <= 75 & avg_score_rating <= 4.55\")"
   ]
  },
  {
   "cell_type": "code",
   "execution_count": 74,
   "metadata": {},
   "outputs": [],
   "source": [
    "#superhost charge rate\n",
    "listings_types_superhost = listings.query(\"neighbourhood == 'Wieden' & room_type == 'Entire home/apt' & host_is_superhost == 1 & price <= 90\")"
   ]
  },
  {
   "cell_type": "code",
   "execution_count": 75,
   "metadata": {},
   "outputs": [
    {
     "data": {
      "application/vnd.plotly.v1+json": {
       "config": {
        "plotlyServerURL": "https://plot.ly"
       },
       "data": [
        {
         "histfunc": "avg",
         "name": "Average host price",
         "texttemplate": "%{y:.2}",
         "type": "histogram",
         "x": [
          "Entire home/apt"
         ],
         "y": [
          62
         ]
        },
        {
         "histfunc": "avg",
         "name": " Average price of similar listings",
         "texttemplate": "%{y:.2}",
         "type": "histogram",
         "x": [
          "Entire home/apt"
         ],
         "y": [
          48,
          49,
          62,
          70,
          50,
          34,
          15,
          58,
          75,
          69,
          43,
          60,
          43,
          67,
          48
         ]
        }
       ],
       "layout": {
        "template": {
         "data": {
          "bar": [
           {
            "error_x": {
             "color": "#2a3f5f"
            },
            "error_y": {
             "color": "#2a3f5f"
            },
            "marker": {
             "line": {
              "color": "#E5ECF6",
              "width": 0.5
             },
             "pattern": {
              "fillmode": "overlay",
              "size": 10,
              "solidity": 0.2
             }
            },
            "type": "bar"
           }
          ],
          "barpolar": [
           {
            "marker": {
             "line": {
              "color": "#E5ECF6",
              "width": 0.5
             },
             "pattern": {
              "fillmode": "overlay",
              "size": 10,
              "solidity": 0.2
             }
            },
            "type": "barpolar"
           }
          ],
          "carpet": [
           {
            "aaxis": {
             "endlinecolor": "#2a3f5f",
             "gridcolor": "white",
             "linecolor": "white",
             "minorgridcolor": "white",
             "startlinecolor": "#2a3f5f"
            },
            "baxis": {
             "endlinecolor": "#2a3f5f",
             "gridcolor": "white",
             "linecolor": "white",
             "minorgridcolor": "white",
             "startlinecolor": "#2a3f5f"
            },
            "type": "carpet"
           }
          ],
          "choropleth": [
           {
            "colorbar": {
             "outlinewidth": 0,
             "ticks": ""
            },
            "type": "choropleth"
           }
          ],
          "contour": [
           {
            "colorbar": {
             "outlinewidth": 0,
             "ticks": ""
            },
            "colorscale": [
             [
              0,
              "#0d0887"
             ],
             [
              0.1111111111111111,
              "#46039f"
             ],
             [
              0.2222222222222222,
              "#7201a8"
             ],
             [
              0.3333333333333333,
              "#9c179e"
             ],
             [
              0.4444444444444444,
              "#bd3786"
             ],
             [
              0.5555555555555556,
              "#d8576b"
             ],
             [
              0.6666666666666666,
              "#ed7953"
             ],
             [
              0.7777777777777778,
              "#fb9f3a"
             ],
             [
              0.8888888888888888,
              "#fdca26"
             ],
             [
              1,
              "#f0f921"
             ]
            ],
            "type": "contour"
           }
          ],
          "contourcarpet": [
           {
            "colorbar": {
             "outlinewidth": 0,
             "ticks": ""
            },
            "type": "contourcarpet"
           }
          ],
          "heatmap": [
           {
            "colorbar": {
             "outlinewidth": 0,
             "ticks": ""
            },
            "colorscale": [
             [
              0,
              "#0d0887"
             ],
             [
              0.1111111111111111,
              "#46039f"
             ],
             [
              0.2222222222222222,
              "#7201a8"
             ],
             [
              0.3333333333333333,
              "#9c179e"
             ],
             [
              0.4444444444444444,
              "#bd3786"
             ],
             [
              0.5555555555555556,
              "#d8576b"
             ],
             [
              0.6666666666666666,
              "#ed7953"
             ],
             [
              0.7777777777777778,
              "#fb9f3a"
             ],
             [
              0.8888888888888888,
              "#fdca26"
             ],
             [
              1,
              "#f0f921"
             ]
            ],
            "type": "heatmap"
           }
          ],
          "heatmapgl": [
           {
            "colorbar": {
             "outlinewidth": 0,
             "ticks": ""
            },
            "colorscale": [
             [
              0,
              "#0d0887"
             ],
             [
              0.1111111111111111,
              "#46039f"
             ],
             [
              0.2222222222222222,
              "#7201a8"
             ],
             [
              0.3333333333333333,
              "#9c179e"
             ],
             [
              0.4444444444444444,
              "#bd3786"
             ],
             [
              0.5555555555555556,
              "#d8576b"
             ],
             [
              0.6666666666666666,
              "#ed7953"
             ],
             [
              0.7777777777777778,
              "#fb9f3a"
             ],
             [
              0.8888888888888888,
              "#fdca26"
             ],
             [
              1,
              "#f0f921"
             ]
            ],
            "type": "heatmapgl"
           }
          ],
          "histogram": [
           {
            "marker": {
             "pattern": {
              "fillmode": "overlay",
              "size": 10,
              "solidity": 0.2
             }
            },
            "type": "histogram"
           }
          ],
          "histogram2d": [
           {
            "colorbar": {
             "outlinewidth": 0,
             "ticks": ""
            },
            "colorscale": [
             [
              0,
              "#0d0887"
             ],
             [
              0.1111111111111111,
              "#46039f"
             ],
             [
              0.2222222222222222,
              "#7201a8"
             ],
             [
              0.3333333333333333,
              "#9c179e"
             ],
             [
              0.4444444444444444,
              "#bd3786"
             ],
             [
              0.5555555555555556,
              "#d8576b"
             ],
             [
              0.6666666666666666,
              "#ed7953"
             ],
             [
              0.7777777777777778,
              "#fb9f3a"
             ],
             [
              0.8888888888888888,
              "#fdca26"
             ],
             [
              1,
              "#f0f921"
             ]
            ],
            "type": "histogram2d"
           }
          ],
          "histogram2dcontour": [
           {
            "colorbar": {
             "outlinewidth": 0,
             "ticks": ""
            },
            "colorscale": [
             [
              0,
              "#0d0887"
             ],
             [
              0.1111111111111111,
              "#46039f"
             ],
             [
              0.2222222222222222,
              "#7201a8"
             ],
             [
              0.3333333333333333,
              "#9c179e"
             ],
             [
              0.4444444444444444,
              "#bd3786"
             ],
             [
              0.5555555555555556,
              "#d8576b"
             ],
             [
              0.6666666666666666,
              "#ed7953"
             ],
             [
              0.7777777777777778,
              "#fb9f3a"
             ],
             [
              0.8888888888888888,
              "#fdca26"
             ],
             [
              1,
              "#f0f921"
             ]
            ],
            "type": "histogram2dcontour"
           }
          ],
          "mesh3d": [
           {
            "colorbar": {
             "outlinewidth": 0,
             "ticks": ""
            },
            "type": "mesh3d"
           }
          ],
          "parcoords": [
           {
            "line": {
             "colorbar": {
              "outlinewidth": 0,
              "ticks": ""
             }
            },
            "type": "parcoords"
           }
          ],
          "pie": [
           {
            "automargin": true,
            "type": "pie"
           }
          ],
          "scatter": [
           {
            "fillpattern": {
             "fillmode": "overlay",
             "size": 10,
             "solidity": 0.2
            },
            "type": "scatter"
           }
          ],
          "scatter3d": [
           {
            "line": {
             "colorbar": {
              "outlinewidth": 0,
              "ticks": ""
             }
            },
            "marker": {
             "colorbar": {
              "outlinewidth": 0,
              "ticks": ""
             }
            },
            "type": "scatter3d"
           }
          ],
          "scattercarpet": [
           {
            "marker": {
             "colorbar": {
              "outlinewidth": 0,
              "ticks": ""
             }
            },
            "type": "scattercarpet"
           }
          ],
          "scattergeo": [
           {
            "marker": {
             "colorbar": {
              "outlinewidth": 0,
              "ticks": ""
             }
            },
            "type": "scattergeo"
           }
          ],
          "scattergl": [
           {
            "marker": {
             "colorbar": {
              "outlinewidth": 0,
              "ticks": ""
             }
            },
            "type": "scattergl"
           }
          ],
          "scattermapbox": [
           {
            "marker": {
             "colorbar": {
              "outlinewidth": 0,
              "ticks": ""
             }
            },
            "type": "scattermapbox"
           }
          ],
          "scatterpolar": [
           {
            "marker": {
             "colorbar": {
              "outlinewidth": 0,
              "ticks": ""
             }
            },
            "type": "scatterpolar"
           }
          ],
          "scatterpolargl": [
           {
            "marker": {
             "colorbar": {
              "outlinewidth": 0,
              "ticks": ""
             }
            },
            "type": "scatterpolargl"
           }
          ],
          "scatterternary": [
           {
            "marker": {
             "colorbar": {
              "outlinewidth": 0,
              "ticks": ""
             }
            },
            "type": "scatterternary"
           }
          ],
          "surface": [
           {
            "colorbar": {
             "outlinewidth": 0,
             "ticks": ""
            },
            "colorscale": [
             [
              0,
              "#0d0887"
             ],
             [
              0.1111111111111111,
              "#46039f"
             ],
             [
              0.2222222222222222,
              "#7201a8"
             ],
             [
              0.3333333333333333,
              "#9c179e"
             ],
             [
              0.4444444444444444,
              "#bd3786"
             ],
             [
              0.5555555555555556,
              "#d8576b"
             ],
             [
              0.6666666666666666,
              "#ed7953"
             ],
             [
              0.7777777777777778,
              "#fb9f3a"
             ],
             [
              0.8888888888888888,
              "#fdca26"
             ],
             [
              1,
              "#f0f921"
             ]
            ],
            "type": "surface"
           }
          ],
          "table": [
           {
            "cells": {
             "fill": {
              "color": "#EBF0F8"
             },
             "line": {
              "color": "white"
             }
            },
            "header": {
             "fill": {
              "color": "#C8D4E3"
             },
             "line": {
              "color": "white"
             }
            },
            "type": "table"
           }
          ]
         },
         "layout": {
          "annotationdefaults": {
           "arrowcolor": "#2a3f5f",
           "arrowhead": 0,
           "arrowwidth": 1
          },
          "autotypenumbers": "strict",
          "coloraxis": {
           "colorbar": {
            "outlinewidth": 0,
            "ticks": ""
           }
          },
          "colorscale": {
           "diverging": [
            [
             0,
             "#8e0152"
            ],
            [
             0.1,
             "#c51b7d"
            ],
            [
             0.2,
             "#de77ae"
            ],
            [
             0.3,
             "#f1b6da"
            ],
            [
             0.4,
             "#fde0ef"
            ],
            [
             0.5,
             "#f7f7f7"
            ],
            [
             0.6,
             "#e6f5d0"
            ],
            [
             0.7,
             "#b8e186"
            ],
            [
             0.8,
             "#7fbc41"
            ],
            [
             0.9,
             "#4d9221"
            ],
            [
             1,
             "#276419"
            ]
           ],
           "sequential": [
            [
             0,
             "#0d0887"
            ],
            [
             0.1111111111111111,
             "#46039f"
            ],
            [
             0.2222222222222222,
             "#7201a8"
            ],
            [
             0.3333333333333333,
             "#9c179e"
            ],
            [
             0.4444444444444444,
             "#bd3786"
            ],
            [
             0.5555555555555556,
             "#d8576b"
            ],
            [
             0.6666666666666666,
             "#ed7953"
            ],
            [
             0.7777777777777778,
             "#fb9f3a"
            ],
            [
             0.8888888888888888,
             "#fdca26"
            ],
            [
             1,
             "#f0f921"
            ]
           ],
           "sequentialminus": [
            [
             0,
             "#0d0887"
            ],
            [
             0.1111111111111111,
             "#46039f"
            ],
            [
             0.2222222222222222,
             "#7201a8"
            ],
            [
             0.3333333333333333,
             "#9c179e"
            ],
            [
             0.4444444444444444,
             "#bd3786"
            ],
            [
             0.5555555555555556,
             "#d8576b"
            ],
            [
             0.6666666666666666,
             "#ed7953"
            ],
            [
             0.7777777777777778,
             "#fb9f3a"
            ],
            [
             0.8888888888888888,
             "#fdca26"
            ],
            [
             1,
             "#f0f921"
            ]
           ]
          },
          "colorway": [
           "#636efa",
           "#EF553B",
           "#00cc96",
           "#ab63fa",
           "#FFA15A",
           "#19d3f3",
           "#FF6692",
           "#B6E880",
           "#FF97FF",
           "#FECB52"
          ],
          "font": {
           "color": "#2a3f5f"
          },
          "geo": {
           "bgcolor": "white",
           "lakecolor": "white",
           "landcolor": "#E5ECF6",
           "showlakes": true,
           "showland": true,
           "subunitcolor": "white"
          },
          "hoverlabel": {
           "align": "left"
          },
          "hovermode": "closest",
          "mapbox": {
           "style": "light"
          },
          "paper_bgcolor": "white",
          "plot_bgcolor": "#E5ECF6",
          "polar": {
           "angularaxis": {
            "gridcolor": "white",
            "linecolor": "white",
            "ticks": ""
           },
           "bgcolor": "#E5ECF6",
           "radialaxis": {
            "gridcolor": "white",
            "linecolor": "white",
            "ticks": ""
           }
          },
          "scene": {
           "xaxis": {
            "backgroundcolor": "#E5ECF6",
            "gridcolor": "white",
            "gridwidth": 2,
            "linecolor": "white",
            "showbackground": true,
            "ticks": "",
            "zerolinecolor": "white"
           },
           "yaxis": {
            "backgroundcolor": "#E5ECF6",
            "gridcolor": "white",
            "gridwidth": 2,
            "linecolor": "white",
            "showbackground": true,
            "ticks": "",
            "zerolinecolor": "white"
           },
           "zaxis": {
            "backgroundcolor": "#E5ECF6",
            "gridcolor": "white",
            "gridwidth": 2,
            "linecolor": "white",
            "showbackground": true,
            "ticks": "",
            "zerolinecolor": "white"
           }
          },
          "shapedefaults": {
           "line": {
            "color": "#2a3f5f"
           }
          },
          "ternary": {
           "aaxis": {
            "gridcolor": "white",
            "linecolor": "white",
            "ticks": ""
           },
           "baxis": {
            "gridcolor": "white",
            "linecolor": "white",
            "ticks": ""
           },
           "bgcolor": "#E5ECF6",
           "caxis": {
            "gridcolor": "white",
            "linecolor": "white",
            "ticks": ""
           }
          },
          "title": {
           "x": 0.05
          },
          "xaxis": {
           "automargin": true,
           "gridcolor": "white",
           "linecolor": "white",
           "ticks": "",
           "title": {
            "standoff": 15
           },
           "zerolinecolor": "white",
           "zerolinewidth": 2
          },
          "yaxis": {
           "automargin": true,
           "gridcolor": "white",
           "linecolor": "white",
           "ticks": "",
           "title": {
            "standoff": 15
           },
           "zerolinecolor": "white",
           "zerolinewidth": 2
          }
         }
        }
       }
      }
     },
     "metadata": {},
     "output_type": "display_data"
    }
   ],
   "source": [
    "import plotly.graph_objects as go\n",
    "\n",
    "fig = go.Figure()\n",
    "fig.add_trace(go.Histogram(histfunc=\"avg\", y=listings_single['price'], x=listings_single['room_type'], name=\"Average host price\", texttemplate=\"%{y:.2}\"))\n",
    "fig.add_trace(go.Histogram(histfunc=\"avg\", y=listings_types['price'], x=listings_single['room_type'], name=\" Average price of similar listings\", texttemplate=\"%{y:.2}\"))\n",
    "fig.show()"
   ]
  },
  {
   "cell_type": "code",
   "execution_count": 71,
   "metadata": {},
   "outputs": [
    {
     "data": {
      "application/vnd.plotly.v1+json": {
       "config": {
        "plotlyServerURL": "https://plot.ly"
       },
       "data": [
        {
         "histfunc": "avg",
         "name": "Average host price",
         "texttemplate": "%{y:.2}",
         "type": "histogram",
         "x": [
          "Entire home/apt"
         ],
         "y": [
          61
         ]
        },
        {
         "histfunc": "avg",
         "name": " Average price of super host listings",
         "texttemplate": "%{y:.2}",
         "type": "histogram",
         "x": [
          "Entire home/apt",
          "Entire home/apt",
          "Entire home/apt",
          "Entire home/apt",
          "Entire home/apt",
          "Entire home/apt",
          "Entire home/apt",
          "Entire home/apt",
          "Entire home/apt",
          "Entire home/apt",
          "Entire home/apt",
          "Entire home/apt",
          "Entire home/apt",
          "Entire home/apt",
          "Entire home/apt",
          "Entire home/apt",
          "Entire home/apt",
          "Entire home/apt",
          "Entire home/apt",
          "Entire home/apt",
          "Entire home/apt",
          "Entire home/apt",
          "Entire home/apt",
          "Entire home/apt",
          "Entire home/apt",
          "Entire home/apt",
          "Entire home/apt",
          "Entire home/apt",
          "Entire home/apt",
          "Entire home/apt",
          "Entire home/apt",
          "Entire home/apt",
          "Entire home/apt",
          "Entire home/apt",
          "Entire home/apt",
          "Entire home/apt",
          "Entire home/apt",
          "Entire home/apt",
          "Entire home/apt",
          "Entire home/apt",
          "Entire home/apt",
          "Entire home/apt",
          "Entire home/apt",
          "Entire home/apt",
          "Entire home/apt"
         ],
         "y": [
          42,
          50,
          50,
          80,
          25,
          90,
          53,
          65,
          76,
          89,
          59,
          51,
          55,
          65,
          80,
          85,
          55,
          68,
          58,
          63,
          35,
          49,
          59,
          64,
          77,
          52,
          71,
          53,
          53,
          48,
          35,
          41,
          85,
          45,
          45,
          67,
          63,
          60,
          56,
          62,
          87,
          58,
          64,
          64,
          77
         ]
        }
       ],
       "layout": {
        "template": {
         "data": {
          "bar": [
           {
            "error_x": {
             "color": "#2a3f5f"
            },
            "error_y": {
             "color": "#2a3f5f"
            },
            "marker": {
             "line": {
              "color": "#E5ECF6",
              "width": 0.5
             },
             "pattern": {
              "fillmode": "overlay",
              "size": 10,
              "solidity": 0.2
             }
            },
            "type": "bar"
           }
          ],
          "barpolar": [
           {
            "marker": {
             "line": {
              "color": "#E5ECF6",
              "width": 0.5
             },
             "pattern": {
              "fillmode": "overlay",
              "size": 10,
              "solidity": 0.2
             }
            },
            "type": "barpolar"
           }
          ],
          "carpet": [
           {
            "aaxis": {
             "endlinecolor": "#2a3f5f",
             "gridcolor": "white",
             "linecolor": "white",
             "minorgridcolor": "white",
             "startlinecolor": "#2a3f5f"
            },
            "baxis": {
             "endlinecolor": "#2a3f5f",
             "gridcolor": "white",
             "linecolor": "white",
             "minorgridcolor": "white",
             "startlinecolor": "#2a3f5f"
            },
            "type": "carpet"
           }
          ],
          "choropleth": [
           {
            "colorbar": {
             "outlinewidth": 0,
             "ticks": ""
            },
            "type": "choropleth"
           }
          ],
          "contour": [
           {
            "colorbar": {
             "outlinewidth": 0,
             "ticks": ""
            },
            "colorscale": [
             [
              0,
              "#0d0887"
             ],
             [
              0.1111111111111111,
              "#46039f"
             ],
             [
              0.2222222222222222,
              "#7201a8"
             ],
             [
              0.3333333333333333,
              "#9c179e"
             ],
             [
              0.4444444444444444,
              "#bd3786"
             ],
             [
              0.5555555555555556,
              "#d8576b"
             ],
             [
              0.6666666666666666,
              "#ed7953"
             ],
             [
              0.7777777777777778,
              "#fb9f3a"
             ],
             [
              0.8888888888888888,
              "#fdca26"
             ],
             [
              1,
              "#f0f921"
             ]
            ],
            "type": "contour"
           }
          ],
          "contourcarpet": [
           {
            "colorbar": {
             "outlinewidth": 0,
             "ticks": ""
            },
            "type": "contourcarpet"
           }
          ],
          "heatmap": [
           {
            "colorbar": {
             "outlinewidth": 0,
             "ticks": ""
            },
            "colorscale": [
             [
              0,
              "#0d0887"
             ],
             [
              0.1111111111111111,
              "#46039f"
             ],
             [
              0.2222222222222222,
              "#7201a8"
             ],
             [
              0.3333333333333333,
              "#9c179e"
             ],
             [
              0.4444444444444444,
              "#bd3786"
             ],
             [
              0.5555555555555556,
              "#d8576b"
             ],
             [
              0.6666666666666666,
              "#ed7953"
             ],
             [
              0.7777777777777778,
              "#fb9f3a"
             ],
             [
              0.8888888888888888,
              "#fdca26"
             ],
             [
              1,
              "#f0f921"
             ]
            ],
            "type": "heatmap"
           }
          ],
          "heatmapgl": [
           {
            "colorbar": {
             "outlinewidth": 0,
             "ticks": ""
            },
            "colorscale": [
             [
              0,
              "#0d0887"
             ],
             [
              0.1111111111111111,
              "#46039f"
             ],
             [
              0.2222222222222222,
              "#7201a8"
             ],
             [
              0.3333333333333333,
              "#9c179e"
             ],
             [
              0.4444444444444444,
              "#bd3786"
             ],
             [
              0.5555555555555556,
              "#d8576b"
             ],
             [
              0.6666666666666666,
              "#ed7953"
             ],
             [
              0.7777777777777778,
              "#fb9f3a"
             ],
             [
              0.8888888888888888,
              "#fdca26"
             ],
             [
              1,
              "#f0f921"
             ]
            ],
            "type": "heatmapgl"
           }
          ],
          "histogram": [
           {
            "marker": {
             "pattern": {
              "fillmode": "overlay",
              "size": 10,
              "solidity": 0.2
             }
            },
            "type": "histogram"
           }
          ],
          "histogram2d": [
           {
            "colorbar": {
             "outlinewidth": 0,
             "ticks": ""
            },
            "colorscale": [
             [
              0,
              "#0d0887"
             ],
             [
              0.1111111111111111,
              "#46039f"
             ],
             [
              0.2222222222222222,
              "#7201a8"
             ],
             [
              0.3333333333333333,
              "#9c179e"
             ],
             [
              0.4444444444444444,
              "#bd3786"
             ],
             [
              0.5555555555555556,
              "#d8576b"
             ],
             [
              0.6666666666666666,
              "#ed7953"
             ],
             [
              0.7777777777777778,
              "#fb9f3a"
             ],
             [
              0.8888888888888888,
              "#fdca26"
             ],
             [
              1,
              "#f0f921"
             ]
            ],
            "type": "histogram2d"
           }
          ],
          "histogram2dcontour": [
           {
            "colorbar": {
             "outlinewidth": 0,
             "ticks": ""
            },
            "colorscale": [
             [
              0,
              "#0d0887"
             ],
             [
              0.1111111111111111,
              "#46039f"
             ],
             [
              0.2222222222222222,
              "#7201a8"
             ],
             [
              0.3333333333333333,
              "#9c179e"
             ],
             [
              0.4444444444444444,
              "#bd3786"
             ],
             [
              0.5555555555555556,
              "#d8576b"
             ],
             [
              0.6666666666666666,
              "#ed7953"
             ],
             [
              0.7777777777777778,
              "#fb9f3a"
             ],
             [
              0.8888888888888888,
              "#fdca26"
             ],
             [
              1,
              "#f0f921"
             ]
            ],
            "type": "histogram2dcontour"
           }
          ],
          "mesh3d": [
           {
            "colorbar": {
             "outlinewidth": 0,
             "ticks": ""
            },
            "type": "mesh3d"
           }
          ],
          "parcoords": [
           {
            "line": {
             "colorbar": {
              "outlinewidth": 0,
              "ticks": ""
             }
            },
            "type": "parcoords"
           }
          ],
          "pie": [
           {
            "automargin": true,
            "type": "pie"
           }
          ],
          "scatter": [
           {
            "fillpattern": {
             "fillmode": "overlay",
             "size": 10,
             "solidity": 0.2
            },
            "type": "scatter"
           }
          ],
          "scatter3d": [
           {
            "line": {
             "colorbar": {
              "outlinewidth": 0,
              "ticks": ""
             }
            },
            "marker": {
             "colorbar": {
              "outlinewidth": 0,
              "ticks": ""
             }
            },
            "type": "scatter3d"
           }
          ],
          "scattercarpet": [
           {
            "marker": {
             "colorbar": {
              "outlinewidth": 0,
              "ticks": ""
             }
            },
            "type": "scattercarpet"
           }
          ],
          "scattergeo": [
           {
            "marker": {
             "colorbar": {
              "outlinewidth": 0,
              "ticks": ""
             }
            },
            "type": "scattergeo"
           }
          ],
          "scattergl": [
           {
            "marker": {
             "colorbar": {
              "outlinewidth": 0,
              "ticks": ""
             }
            },
            "type": "scattergl"
           }
          ],
          "scattermapbox": [
           {
            "marker": {
             "colorbar": {
              "outlinewidth": 0,
              "ticks": ""
             }
            },
            "type": "scattermapbox"
           }
          ],
          "scatterpolar": [
           {
            "marker": {
             "colorbar": {
              "outlinewidth": 0,
              "ticks": ""
             }
            },
            "type": "scatterpolar"
           }
          ],
          "scatterpolargl": [
           {
            "marker": {
             "colorbar": {
              "outlinewidth": 0,
              "ticks": ""
             }
            },
            "type": "scatterpolargl"
           }
          ],
          "scatterternary": [
           {
            "marker": {
             "colorbar": {
              "outlinewidth": 0,
              "ticks": ""
             }
            },
            "type": "scatterternary"
           }
          ],
          "surface": [
           {
            "colorbar": {
             "outlinewidth": 0,
             "ticks": ""
            },
            "colorscale": [
             [
              0,
              "#0d0887"
             ],
             [
              0.1111111111111111,
              "#46039f"
             ],
             [
              0.2222222222222222,
              "#7201a8"
             ],
             [
              0.3333333333333333,
              "#9c179e"
             ],
             [
              0.4444444444444444,
              "#bd3786"
             ],
             [
              0.5555555555555556,
              "#d8576b"
             ],
             [
              0.6666666666666666,
              "#ed7953"
             ],
             [
              0.7777777777777778,
              "#fb9f3a"
             ],
             [
              0.8888888888888888,
              "#fdca26"
             ],
             [
              1,
              "#f0f921"
             ]
            ],
            "type": "surface"
           }
          ],
          "table": [
           {
            "cells": {
             "fill": {
              "color": "#EBF0F8"
             },
             "line": {
              "color": "white"
             }
            },
            "header": {
             "fill": {
              "color": "#C8D4E3"
             },
             "line": {
              "color": "white"
             }
            },
            "type": "table"
           }
          ]
         },
         "layout": {
          "annotationdefaults": {
           "arrowcolor": "#2a3f5f",
           "arrowhead": 0,
           "arrowwidth": 1
          },
          "autotypenumbers": "strict",
          "coloraxis": {
           "colorbar": {
            "outlinewidth": 0,
            "ticks": ""
           }
          },
          "colorscale": {
           "diverging": [
            [
             0,
             "#8e0152"
            ],
            [
             0.1,
             "#c51b7d"
            ],
            [
             0.2,
             "#de77ae"
            ],
            [
             0.3,
             "#f1b6da"
            ],
            [
             0.4,
             "#fde0ef"
            ],
            [
             0.5,
             "#f7f7f7"
            ],
            [
             0.6,
             "#e6f5d0"
            ],
            [
             0.7,
             "#b8e186"
            ],
            [
             0.8,
             "#7fbc41"
            ],
            [
             0.9,
             "#4d9221"
            ],
            [
             1,
             "#276419"
            ]
           ],
           "sequential": [
            [
             0,
             "#0d0887"
            ],
            [
             0.1111111111111111,
             "#46039f"
            ],
            [
             0.2222222222222222,
             "#7201a8"
            ],
            [
             0.3333333333333333,
             "#9c179e"
            ],
            [
             0.4444444444444444,
             "#bd3786"
            ],
            [
             0.5555555555555556,
             "#d8576b"
            ],
            [
             0.6666666666666666,
             "#ed7953"
            ],
            [
             0.7777777777777778,
             "#fb9f3a"
            ],
            [
             0.8888888888888888,
             "#fdca26"
            ],
            [
             1,
             "#f0f921"
            ]
           ],
           "sequentialminus": [
            [
             0,
             "#0d0887"
            ],
            [
             0.1111111111111111,
             "#46039f"
            ],
            [
             0.2222222222222222,
             "#7201a8"
            ],
            [
             0.3333333333333333,
             "#9c179e"
            ],
            [
             0.4444444444444444,
             "#bd3786"
            ],
            [
             0.5555555555555556,
             "#d8576b"
            ],
            [
             0.6666666666666666,
             "#ed7953"
            ],
            [
             0.7777777777777778,
             "#fb9f3a"
            ],
            [
             0.8888888888888888,
             "#fdca26"
            ],
            [
             1,
             "#f0f921"
            ]
           ]
          },
          "colorway": [
           "#636efa",
           "#EF553B",
           "#00cc96",
           "#ab63fa",
           "#FFA15A",
           "#19d3f3",
           "#FF6692",
           "#B6E880",
           "#FF97FF",
           "#FECB52"
          ],
          "font": {
           "color": "#2a3f5f"
          },
          "geo": {
           "bgcolor": "white",
           "lakecolor": "white",
           "landcolor": "#E5ECF6",
           "showlakes": true,
           "showland": true,
           "subunitcolor": "white"
          },
          "hoverlabel": {
           "align": "left"
          },
          "hovermode": "closest",
          "mapbox": {
           "style": "light"
          },
          "paper_bgcolor": "white",
          "plot_bgcolor": "#E5ECF6",
          "polar": {
           "angularaxis": {
            "gridcolor": "white",
            "linecolor": "white",
            "ticks": ""
           },
           "bgcolor": "#E5ECF6",
           "radialaxis": {
            "gridcolor": "white",
            "linecolor": "white",
            "ticks": ""
           }
          },
          "scene": {
           "xaxis": {
            "backgroundcolor": "#E5ECF6",
            "gridcolor": "white",
            "gridwidth": 2,
            "linecolor": "white",
            "showbackground": true,
            "ticks": "",
            "zerolinecolor": "white"
           },
           "yaxis": {
            "backgroundcolor": "#E5ECF6",
            "gridcolor": "white",
            "gridwidth": 2,
            "linecolor": "white",
            "showbackground": true,
            "ticks": "",
            "zerolinecolor": "white"
           },
           "zaxis": {
            "backgroundcolor": "#E5ECF6",
            "gridcolor": "white",
            "gridwidth": 2,
            "linecolor": "white",
            "showbackground": true,
            "ticks": "",
            "zerolinecolor": "white"
           }
          },
          "shapedefaults": {
           "line": {
            "color": "#2a3f5f"
           }
          },
          "ternary": {
           "aaxis": {
            "gridcolor": "white",
            "linecolor": "white",
            "ticks": ""
           },
           "baxis": {
            "gridcolor": "white",
            "linecolor": "white",
            "ticks": ""
           },
           "bgcolor": "#E5ECF6",
           "caxis": {
            "gridcolor": "white",
            "linecolor": "white",
            "ticks": ""
           }
          },
          "title": {
           "x": 0.05
          },
          "xaxis": {
           "automargin": true,
           "gridcolor": "white",
           "linecolor": "white",
           "ticks": "",
           "title": {
            "standoff": 15
           },
           "zerolinecolor": "white",
           "zerolinewidth": 2
          },
          "yaxis": {
           "automargin": true,
           "gridcolor": "white",
           "linecolor": "white",
           "ticks": "",
           "title": {
            "standoff": 15
           },
           "zerolinecolor": "white",
           "zerolinewidth": 2
          }
         }
        }
       }
      }
     },
     "metadata": {},
     "output_type": "display_data"
    }
   ],
   "source": [
    "import plotly.graph_objects as go\n",
    "\n",
    "fig = go.Figure()\n",
    "fig.add_trace(go.Histogram(histfunc=\"avg\", y=listings_single['price'], x=listings_single['room_type'], name=\"Average host price\", texttemplate=\"%{y:.2}\"))\n",
    "fig.add_trace(go.Histogram(histfunc=\"avg\", y=listings_types_superhost['price'], x=listings_types_superhost['room_type'], name=\" Average price of super host listings\", texttemplate=\"%{y:.2}\"))\n",
    "fig.show()"
   ]
  },
  {
   "cell_type": "code",
   "execution_count": 66,
   "metadata": {},
   "outputs": [
    {
     "data": {
      "application/vnd.plotly.v1+json": {
       "config": {
        "plotlyServerURL": "https://plot.ly"
       },
       "data": [
        {
         "legendgroup": "group",
         "name": "Competition",
         "textposition": "outside",
         "texttemplate": "%{y:.3}",
         "type": "bar",
         "x": [
          "average rating"
         ],
         "y": [
          4.75,
          4.94,
          4.76,
          4.74,
          4.9,
          4.68,
          4.69,
          4.81,
          4.89,
          4.93,
          4.6,
          null,
          4.76,
          4.91,
          4.83,
          4.84,
          4.94,
          4.88,
          4.87,
          4.88,
          4.76,
          null,
          4.75,
          4.78,
          5,
          3.93,
          4.83,
          4.83,
          4.89,
          4.84,
          4.9,
          4.93,
          4.89,
          4.82,
          4.91,
          4.78,
          4.86,
          null,
          4.91,
          4.79,
          null,
          0,
          null,
          4.57,
          4.58,
          4.96,
          4.93,
          4.89,
          null,
          null,
          4.93,
          4.71,
          4.86,
          4.86,
          4.85,
          4.85,
          4.47,
          5,
          5,
          null,
          null,
          4.86,
          4.32,
          4.93,
          null,
          4.89,
          4.34,
          4.84,
          4.97,
          4.72,
          4.9,
          4.92,
          4.91,
          4.9,
          4.89,
          4.77,
          4.59,
          4.66,
          4.93,
          4.9,
          4.76,
          4.93,
          4.53,
          4.89,
          0,
          4.94,
          4.55,
          4.91,
          4.99,
          null,
          4.76,
          4.9,
          4.91,
          4.74,
          4.91,
          4.85,
          4.78,
          4.77,
          4.66,
          4.87,
          4.81,
          4.95,
          null,
          4.88,
          4.68,
          4.69,
          4.95,
          4.93,
          4.96,
          4.89,
          4.83,
          4.91,
          0,
          4.89,
          4.95,
          4.95,
          4.88,
          4.6,
          4.84,
          5,
          0,
          4.86,
          4.83,
          4.71,
          4.89,
          4.92,
          4.55,
          4.93,
          4.9,
          4.81,
          4.97,
          5,
          4.79,
          4.42,
          5,
          4.9,
          4.94,
          4.8,
          4.94,
          null,
          4.91,
          4.92,
          4.95,
          4.81,
          4.92,
          4.66,
          4.81,
          4.92,
          4.91,
          4.88,
          4.86,
          4.91,
          4.91,
          4.87,
          4.57,
          4.77,
          4.89,
          4.92,
          4.76,
          3.79,
          4.54,
          4.86,
          4.85,
          4.9,
          5,
          4.91,
          4.74,
          4.17,
          4.74,
          4.84,
          4.36,
          4.91,
          4.79,
          4.93,
          4.86,
          null,
          4.72,
          4.91,
          4.89,
          4.88,
          4.78,
          4.89,
          4.91,
          4.91,
          4.94,
          4.95,
          4.94,
          4.95,
          4.86,
          4.82,
          4.86,
          4.73,
          4.81,
          4.95,
          4.62,
          4.57,
          4.72,
          4.61,
          4.29,
          4.83,
          4.94,
          4.95,
          4.95,
          4.87,
          4.91,
          4.88,
          4.51,
          4.83,
          5,
          4.73,
          4.95,
          4.83,
          4.81,
          null,
          4.58,
          4.6,
          4.86,
          4.77,
          4.89,
          4.7,
          4.91,
          4.93,
          4.91,
          4.93,
          4.9,
          4.94,
          4.72,
          4.71,
          4.84,
          4.83,
          4.76,
          4.62,
          4.71,
          4.43,
          5,
          4.84,
          4.41,
          4.79,
          4,
          4.86,
          null,
          4.69,
          null,
          4.86,
          null,
          4.71,
          4.71,
          4.64,
          null,
          5,
          4.86,
          null,
          4.72,
          5,
          4.75,
          4.92,
          4.97,
          4.88,
          4.86,
          4.56,
          4.87,
          4.66,
          4.59,
          4.79,
          4.84,
          null,
          4.92,
          4.93,
          4.79,
          5,
          null,
          4.83,
          null,
          4.45,
          null,
          4.85,
          null,
          4.9,
          null,
          null,
          4.93,
          4.96,
          4.86,
          4.57,
          4.85,
          4.93,
          4.92,
          null,
          4.57,
          3.62,
          4.89,
          4.86,
          null,
          5,
          null,
          4.95,
          null,
          4.71,
          null,
          4.64,
          null,
          4.98,
          null,
          null,
          4.98,
          4.57,
          4.9,
          4.93,
          4.81,
          5,
          4.94,
          4.7,
          4.72,
          4.8,
          5,
          4.19,
          null,
          4.55,
          4.62,
          4.88,
          4.64,
          4.86,
          4.94,
          5,
          null,
          4.82,
          4.71,
          5,
          null,
          5,
          4.65,
          3.86,
          4.77,
          null,
          null,
          4.86,
          null,
          null,
          4.98,
          null,
          null,
          null
         ]
        },
        {
         "legendgroup": "group",
         "name": "Host",
         "textposition": "outside",
         "texttemplate": "%{y:.3}",
         "type": "bar",
         "x": [
          "average rating"
         ],
         "y": [
          4.66
         ]
        },
        {
         "legendgroup": "group2",
         "name": "Competition",
         "textposition": "outside",
         "texttemplate": "%{y:.3}",
         "type": "bar",
         "x": [
          "cleanliness rating"
         ],
         "y": [
          4.53,
          5,
          4.81,
          4.75,
          4.9,
          4.56,
          4.7,
          4.87,
          4.92,
          5,
          4.44,
          null,
          4.75,
          4.96,
          4.8,
          4.9,
          4.96,
          4.88,
          4.95,
          4.7,
          4.88,
          null,
          4.81,
          4.81,
          5,
          3.88,
          4.74,
          4.86,
          4.97,
          4.76,
          4.92,
          4.94,
          4.73,
          5,
          5,
          4.65,
          4.89,
          null,
          4.94,
          4.81,
          null,
          null,
          null,
          4.34,
          4.49,
          4.98,
          4.95,
          4.89,
          null,
          null,
          4.93,
          5,
          4,
          4.88,
          4.93,
          4.67,
          3.9,
          5,
          5,
          null,
          null,
          4.69,
          3.5,
          4.95,
          null,
          4.96,
          4.3,
          4.62,
          4.93,
          4.76,
          4.96,
          5,
          4.96,
          4.82,
          4.95,
          4.77,
          4.17,
          4.27,
          4.94,
          4.75,
          4.67,
          4.95,
          4.41,
          4.83,
          null,
          4.99,
          4,
          4.96,
          5,
          null,
          4.57,
          4.94,
          4.9,
          4.65,
          4.97,
          4.87,
          4.75,
          4.94,
          4.5,
          4.96,
          4.83,
          4.98,
          null,
          4.94,
          4.5,
          4.66,
          4.95,
          4.95,
          5,
          4.9,
          4.5,
          4.9,
          null,
          4.8,
          4.97,
          4.95,
          4.89,
          3.8,
          4.8,
          5,
          null,
          4,
          4.92,
          4.63,
          4.8,
          4.95,
          4.2,
          4.96,
          4.84,
          4.64,
          4.96,
          5,
          4.77,
          3.87,
          5,
          4.82,
          4.88,
          4.77,
          4.93,
          null,
          4.92,
          4.93,
          4.95,
          4.81,
          5,
          4.25,
          4.67,
          4.92,
          4.92,
          4.79,
          4.25,
          4.9,
          4.96,
          4.84,
          4.61,
          4.41,
          4.89,
          5,
          4.64,
          4,
          4.4,
          4.9,
          4.89,
          4.83,
          5,
          4.6,
          4.36,
          3.44,
          4.83,
          4.89,
          4,
          4.88,
          4.88,
          5,
          4.71,
          null,
          4.56,
          4.96,
          4.85,
          4.89,
          4.75,
          4.91,
          4.85,
          5,
          4.95,
          5,
          4.97,
          4.89,
          5,
          4.88,
          4.89,
          5,
          4.78,
          4.83,
          4.56,
          4.59,
          4.73,
          4.73,
          4.2,
          4.68,
          4.96,
          4.88,
          4.88,
          4.93,
          4.72,
          4.69,
          4.22,
          4.93,
          5,
          4.5,
          5,
          4.8,
          4.83,
          null,
          4.52,
          4.52,
          4.5,
          4.88,
          4.94,
          4.55,
          4.95,
          5,
          4.88,
          5,
          4.86,
          4.96,
          4.83,
          4.8,
          4.9,
          4.88,
          4.9,
          4.78,
          4.57,
          4.4,
          5,
          4.82,
          4.14,
          4.75,
          4,
          4.5,
          null,
          4.38,
          null,
          5,
          null,
          5,
          5,
          5,
          null,
          5,
          4.8,
          null,
          4.67,
          5,
          4.74,
          4.75,
          5,
          4.77,
          5,
          4.17,
          4.81,
          4.28,
          4.33,
          4.91,
          4.88,
          null,
          4.96,
          5,
          5,
          5,
          null,
          4.65,
          null,
          3.84,
          null,
          4.72,
          null,
          4.45,
          null,
          null,
          4.83,
          4.91,
          5,
          4.5,
          4.81,
          4.96,
          4.95,
          null,
          4.2,
          2,
          4.9,
          4.85,
          null,
          5,
          null,
          5,
          null,
          4,
          null,
          4.76,
          null,
          5,
          null,
          null,
          4.95,
          4.5,
          4.87,
          5,
          4.61,
          5,
          4.92,
          4.47,
          4.58,
          4.8,
          5,
          4.67,
          null,
          4,
          4.6,
          4.88,
          4.5,
          4.33,
          5,
          5,
          null,
          4.82,
          4.8,
          5,
          null,
          5,
          4.11,
          3.5,
          4.2,
          null,
          null,
          5,
          null,
          null,
          5,
          null,
          null,
          null
         ]
        },
        {
         "legendgroup": "group2",
         "name": "Host",
         "textposition": "outside",
         "texttemplate": "%{y:.3}",
         "type": "bar",
         "x": [
          "cleanliness rating"
         ],
         "y": [
          4.28
         ]
        },
        {
         "legendgroup": "group3",
         "name": "Competition",
         "textposition": "outside",
         "texttemplate": "%{y:.3}",
         "type": "bar",
         "x": [
          "checkin rating"
         ],
         "y": [
          4.88,
          5,
          4.77,
          4.8,
          4.93,
          4.82,
          4.81,
          4.81,
          4.88,
          5,
          4.81,
          null,
          4.77,
          4.83,
          4.91,
          4.85,
          4.99,
          4.91,
          4.9,
          4.94,
          4.82,
          null,
          4.73,
          4.83,
          5,
          3.75,
          4.83,
          4.81,
          4.95,
          4.76,
          4.91,
          4.95,
          4.95,
          4.5,
          5,
          4.88,
          4.94,
          null,
          4.93,
          4.81,
          null,
          null,
          null,
          4.75,
          4.7,
          5,
          4.98,
          4.95,
          null,
          null,
          4.97,
          5,
          5,
          4.87,
          4.87,
          4.93,
          4.67,
          5,
          5,
          null,
          null,
          4.92,
          5,
          4.93,
          null,
          4.94,
          4.6,
          4.97,
          5,
          4.74,
          4.88,
          5,
          4.92,
          5,
          4.87,
          4.85,
          4.83,
          4.8,
          4.92,
          4.88,
          4.67,
          4.93,
          4.48,
          4.98,
          null,
          4.88,
          4.86,
          4.91,
          4.99,
          null,
          4.93,
          4.93,
          4.94,
          4.83,
          4.78,
          5,
          4.93,
          4.71,
          4.69,
          4.9,
          4.87,
          4.96,
          null,
          4.85,
          5,
          4.8,
          5,
          4.91,
          5,
          4.88,
          4.7,
          4.9,
          null,
          4.92,
          4.94,
          4.98,
          4.89,
          4.8,
          4.89,
          5,
          null,
          5,
          4.92,
          4.7,
          5,
          4.9,
          4.73,
          4.89,
          4.92,
          4.89,
          5,
          5,
          4.83,
          4.6,
          5,
          4.98,
          5,
          4.94,
          4.99,
          null,
          4.96,
          4.87,
          4.91,
          4.92,
          5,
          4.9,
          4.67,
          4.95,
          4.97,
          4.71,
          5,
          5,
          4.96,
          4.88,
          4.72,
          5,
          5,
          4.86,
          4.89,
          4.25,
          4.67,
          4.9,
          4.85,
          5,
          5,
          5,
          4.71,
          4.33,
          4.5,
          4.89,
          5,
          4.94,
          4.88,
          5,
          5,
          null,
          4.86,
          4.96,
          4.95,
          4.83,
          4.77,
          4.85,
          5,
          5,
          5,
          4.97,
          4.91,
          5,
          5,
          5,
          4.89,
          5,
          4.9,
          5,
          4.58,
          4.47,
          5,
          4.91,
          4.6,
          4.74,
          5,
          4.94,
          4.99,
          4.85,
          4.97,
          5,
          4.45,
          5,
          5,
          4.88,
          5,
          4.8,
          4.83,
          null,
          4.58,
          4.6,
          5,
          5,
          4.88,
          4.87,
          4.91,
          5,
          4.88,
          5,
          4.95,
          4.96,
          4.73,
          4.8,
          4.9,
          4.97,
          4.7,
          4.89,
          4.79,
          4.4,
          5,
          4.88,
          4.43,
          5,
          4,
          5,
          null,
          4.74,
          null,
          4,
          null,
          4.5,
          5,
          5,
          null,
          5,
          5,
          null,
          4.33,
          5,
          4.78,
          5,
          5,
          4.92,
          5,
          4.82,
          4.9,
          4.74,
          4.94,
          4.55,
          4.89,
          null,
          4.88,
          5,
          5,
          5,
          null,
          4.95,
          null,
          4.75,
          null,
          4.95,
          null,
          5,
          null,
          null,
          5,
          4.95,
          5,
          4.5,
          4.88,
          4.96,
          4.95,
          null,
          4.73,
          3.33,
          5,
          4.96,
          null,
          5,
          null,
          5,
          null,
          5,
          null,
          4.56,
          null,
          5,
          null,
          null,
          5,
          4.5,
          4.93,
          5,
          4.94,
          5,
          5,
          4.82,
          4.75,
          4.6,
          5,
          3.67,
          null,
          4.71,
          4.76,
          5,
          5,
          5,
          5,
          5,
          null,
          4.82,
          5,
          5,
          null,
          5,
          4.78,
          3.5,
          5,
          null,
          null,
          5,
          null,
          null,
          5,
          null,
          null,
          null
         ]
        },
        {
         "legendgroup": "group3",
         "name": "Host",
         "textposition": "outside",
         "texttemplate": "%{y:.3}",
         "type": "bar",
         "x": [
          "checkin rating"
         ],
         "y": [
          4.74
         ]
        },
        {
         "legendgroup": "group4",
         "name": "Competition",
         "textposition": "outside",
         "texttemplate": "%{y:.3}",
         "type": "bar",
         "x": [
          "communication rating"
         ],
         "y": [
          4.91,
          5,
          4.51,
          4.5,
          4.9,
          4.55,
          4.63,
          4.8,
          4.88,
          5,
          4.67,
          null,
          4.69,
          5,
          4.82,
          4.82,
          4.94,
          4.89,
          4.94,
          4.95,
          4.71,
          null,
          4.66,
          4.76,
          5,
          3.88,
          4.85,
          4.85,
          4.95,
          4.95,
          4.95,
          4.97,
          4.93,
          4.75,
          5,
          4.8,
          4.97,
          null,
          4.92,
          4.82,
          null,
          null,
          null,
          4.81,
          4.49,
          5,
          4.86,
          4.92,
          null,
          null,
          4.98,
          5,
          5,
          4.92,
          4.8,
          5,
          4.83,
          5,
          5,
          null,
          null,
          5,
          4.25,
          4.9,
          null,
          4.94,
          4.5,
          4.93,
          5,
          4.71,
          4.89,
          5,
          4.93,
          5,
          4.85,
          4.77,
          4.83,
          4.67,
          4.9,
          4.94,
          4.67,
          4.92,
          4.34,
          4.94,
          null,
          4.92,
          4.86,
          4.91,
          5,
          null,
          4.9,
          4.91,
          4.95,
          4.73,
          4.87,
          4.86,
          4.75,
          4.68,
          4.88,
          4.98,
          4.69,
          4.94,
          null,
          4.91,
          4.5,
          4.6,
          5,
          4.91,
          5,
          4.9,
          4.9,
          4.92,
          null,
          4.82,
          4.95,
          4.99,
          4.94,
          5,
          4.86,
          5,
          null,
          5,
          4.65,
          4.8,
          5,
          4.9,
          4.93,
          4.96,
          4.96,
          4.89,
          5,
          5,
          4.69,
          4.8,
          5,
          4.97,
          5,
          4.94,
          4.99,
          null,
          4.84,
          4.9,
          5,
          4.81,
          5,
          4.75,
          5,
          4.97,
          4.98,
          4.86,
          5,
          5,
          5,
          4.96,
          4.29,
          4.94,
          4.78,
          5,
          4.87,
          4,
          4.6,
          4.9,
          4.85,
          5,
          5,
          5,
          4.93,
          4.89,
          4.83,
          4.67,
          5,
          4.81,
          4.5,
          4.71,
          5,
          null,
          4.79,
          4.98,
          4.85,
          4.79,
          4.78,
          4.9,
          4.93,
          5,
          5,
          4.97,
          4.91,
          4.89,
          4.5,
          4.65,
          4.78,
          4.57,
          4.69,
          5,
          4.62,
          4.44,
          4.64,
          4.91,
          3.8,
          5,
          5,
          5,
          4.99,
          4.9,
          4.93,
          4.94,
          4.49,
          4.8,
          5,
          4.81,
          5,
          4.8,
          4.83,
          null,
          4.5,
          4.35,
          5,
          4.92,
          4.82,
          4.55,
          4.9,
          5,
          4.88,
          5,
          4.95,
          5,
          4.57,
          4.4,
          5,
          4.91,
          4.55,
          4.5,
          4.89,
          4.6,
          5,
          4.86,
          4.71,
          5,
          4,
          5,
          null,
          4.62,
          null,
          5,
          null,
          4.5,
          3.5,
          5,
          null,
          5,
          5,
          null,
          4.67,
          5,
          4.7,
          5,
          5,
          4.92,
          5,
          4.77,
          4.94,
          4.82,
          4.76,
          4.91,
          4.88,
          null,
          4.88,
          5,
          3.5,
          5,
          null,
          4.89,
          null,
          4.81,
          null,
          4.92,
          null,
          4.82,
          null,
          null,
          4.83,
          5,
          5,
          5,
          4.96,
          4.93,
          5,
          null,
          4.76,
          4.33,
          4.95,
          4.78,
          null,
          5,
          null,
          5,
          null,
          5,
          null,
          4.44,
          null,
          4.92,
          null,
          null,
          5,
          3.5,
          4.87,
          5,
          4.92,
          5,
          4.92,
          4.85,
          4.75,
          4.4,
          5,
          3.67,
          null,
          4.93,
          4.76,
          4.83,
          5,
          5,
          5,
          5,
          null,
          4.82,
          4.8,
          5,
          null,
          5,
          4.78,
          4,
          5,
          null,
          null,
          5,
          null,
          null,
          5,
          null,
          null,
          null
         ]
        },
        {
         "legendgroup": "group4",
         "name": "Host",
         "textposition": "outside",
         "texttemplate": "%{y:.3}",
         "type": "bar",
         "x": [
          "communication rating"
         ],
         "y": [
          4.82
         ]
        },
        {
         "legendgroup": "group5",
         "name": "Competition",
         "textposition": "outside",
         "texttemplate": "%{y:.3}",
         "type": "bar",
         "x": [
          "value rating"
         ],
         "y": [
          4.64,
          4.71,
          4.71,
          4.76,
          4.76,
          4.65,
          4.66,
          4.73,
          4.81,
          4.5,
          4.52,
          null,
          4.7,
          4.67,
          4.78,
          4.75,
          4.88,
          4.81,
          4.72,
          4.85,
          4.56,
          null,
          4.7,
          4.67,
          5,
          3.5,
          4.8,
          4.76,
          4.73,
          4.76,
          4.84,
          4.88,
          4.83,
          5,
          4.67,
          4.62,
          4.7,
          null,
          4.89,
          4.67,
          null,
          null,
          null,
          4.48,
          4.43,
          4.91,
          4.85,
          4.79,
          null,
          null,
          4.81,
          4.5,
          5,
          4.77,
          4.76,
          4.8,
          4.27,
          5,
          5,
          null,
          null,
          4.83,
          4.75,
          4.87,
          null,
          4.85,
          4.3,
          4.83,
          4.93,
          4.6,
          4.82,
          4.78,
          4.85,
          5,
          4.83,
          4.7,
          4.5,
          4.71,
          4.87,
          4.88,
          5,
          4.9,
          4.57,
          4.75,
          null,
          4.89,
          4.57,
          4.85,
          4.96,
          null,
          4.61,
          4.81,
          4.88,
          4.66,
          4.89,
          4.5,
          4.64,
          4.76,
          4.42,
          4.79,
          4.73,
          4.86,
          null,
          4.83,
          4.75,
          4.51,
          4.83,
          4.93,
          5,
          4.78,
          5,
          4.84,
          null,
          4.86,
          4.89,
          4.83,
          4.71,
          4.5,
          4.7,
          5,
          null,
          5,
          4.84,
          4.8,
          4.9,
          4.89,
          4.27,
          4.83,
          4.76,
          4.64,
          4.96,
          5,
          4.71,
          4.13,
          5,
          4.81,
          4.85,
          4.74,
          4.89,
          null,
          4.84,
          4.92,
          4.91,
          4.66,
          4.82,
          4.35,
          4.67,
          4.88,
          4.8,
          4.86,
          5,
          4.9,
          4.8,
          4.83,
          4.58,
          4.59,
          4.78,
          4.71,
          4.72,
          3.25,
          4.27,
          4.76,
          4.8,
          4.5,
          5,
          4.8,
          4.71,
          3.89,
          4.33,
          4.78,
          4,
          4.88,
          4.75,
          4.94,
          5,
          null,
          4.53,
          4.74,
          4.85,
          4.79,
          4.66,
          4.82,
          4.74,
          4.67,
          4.84,
          4.79,
          4.9,
          5,
          4.75,
          4.71,
          4.83,
          4.57,
          4.76,
          4.83,
          4.49,
          4.5,
          4.55,
          3.91,
          4.2,
          4.84,
          4.78,
          4.88,
          4.88,
          4.78,
          4.93,
          4.75,
          4.54,
          4.73,
          5,
          4.78,
          4.79,
          4.8,
          4.67,
          null,
          4.5,
          4.67,
          5,
          4.5,
          4.83,
          4.65,
          4.84,
          4.68,
          4.88,
          4.88,
          4.86,
          4.84,
          4.63,
          4.8,
          4.6,
          4.68,
          4.7,
          4.39,
          4.54,
          4.2,
          5,
          4.82,
          4.29,
          4.5,
          4,
          4.5,
          null,
          4.68,
          null,
          5,
          null,
          5,
          5,
          4,
          null,
          5,
          4.6,
          null,
          4.67,
          5,
          4.67,
          4.75,
          5,
          4.83,
          4,
          4.42,
          4.85,
          4.67,
          4.43,
          4.82,
          4.73,
          null,
          4.88,
          4.5,
          5,
          5,
          null,
          4.81,
          null,
          4.34,
          null,
          4.67,
          null,
          5,
          null,
          null,
          4.83,
          4.91,
          4.5,
          4,
          4.77,
          4.93,
          4.88,
          null,
          4.37,
          4.33,
          4.6,
          4.78,
          null,
          5,
          null,
          4.67,
          null,
          4,
          null,
          4.6,
          null,
          4.92,
          null,
          null,
          4.9,
          5,
          4.93,
          4.5,
          4.67,
          5,
          4.92,
          4.62,
          4.7,
          5,
          5,
          4,
          null,
          4.57,
          4.44,
          4.79,
          5,
          4.67,
          4.8,
          5,
          null,
          4.82,
          4.6,
          5,
          null,
          5,
          4.56,
          3.5,
          4.8,
          null,
          null,
          4,
          null,
          null,
          5,
          null,
          null,
          null
         ]
        },
        {
         "legendgroup": "group5",
         "name": "Host",
         "textposition": "outside",
         "texttemplate": "%{y:.3}",
         "type": "bar",
         "x": [
          "value rating"
         ],
         "y": [
          4.67
         ]
        }
       ],
       "layout": {
        "barmode": "group",
        "template": {
         "data": {
          "bar": [
           {
            "error_x": {
             "color": "#2a3f5f"
            },
            "error_y": {
             "color": "#2a3f5f"
            },
            "marker": {
             "line": {
              "color": "#E5ECF6",
              "width": 0.5
             },
             "pattern": {
              "fillmode": "overlay",
              "size": 10,
              "solidity": 0.2
             }
            },
            "type": "bar"
           }
          ],
          "barpolar": [
           {
            "marker": {
             "line": {
              "color": "#E5ECF6",
              "width": 0.5
             },
             "pattern": {
              "fillmode": "overlay",
              "size": 10,
              "solidity": 0.2
             }
            },
            "type": "barpolar"
           }
          ],
          "carpet": [
           {
            "aaxis": {
             "endlinecolor": "#2a3f5f",
             "gridcolor": "white",
             "linecolor": "white",
             "minorgridcolor": "white",
             "startlinecolor": "#2a3f5f"
            },
            "baxis": {
             "endlinecolor": "#2a3f5f",
             "gridcolor": "white",
             "linecolor": "white",
             "minorgridcolor": "white",
             "startlinecolor": "#2a3f5f"
            },
            "type": "carpet"
           }
          ],
          "choropleth": [
           {
            "colorbar": {
             "outlinewidth": 0,
             "ticks": ""
            },
            "type": "choropleth"
           }
          ],
          "contour": [
           {
            "colorbar": {
             "outlinewidth": 0,
             "ticks": ""
            },
            "colorscale": [
             [
              0,
              "#0d0887"
             ],
             [
              0.1111111111111111,
              "#46039f"
             ],
             [
              0.2222222222222222,
              "#7201a8"
             ],
             [
              0.3333333333333333,
              "#9c179e"
             ],
             [
              0.4444444444444444,
              "#bd3786"
             ],
             [
              0.5555555555555556,
              "#d8576b"
             ],
             [
              0.6666666666666666,
              "#ed7953"
             ],
             [
              0.7777777777777778,
              "#fb9f3a"
             ],
             [
              0.8888888888888888,
              "#fdca26"
             ],
             [
              1,
              "#f0f921"
             ]
            ],
            "type": "contour"
           }
          ],
          "contourcarpet": [
           {
            "colorbar": {
             "outlinewidth": 0,
             "ticks": ""
            },
            "type": "contourcarpet"
           }
          ],
          "heatmap": [
           {
            "colorbar": {
             "outlinewidth": 0,
             "ticks": ""
            },
            "colorscale": [
             [
              0,
              "#0d0887"
             ],
             [
              0.1111111111111111,
              "#46039f"
             ],
             [
              0.2222222222222222,
              "#7201a8"
             ],
             [
              0.3333333333333333,
              "#9c179e"
             ],
             [
              0.4444444444444444,
              "#bd3786"
             ],
             [
              0.5555555555555556,
              "#d8576b"
             ],
             [
              0.6666666666666666,
              "#ed7953"
             ],
             [
              0.7777777777777778,
              "#fb9f3a"
             ],
             [
              0.8888888888888888,
              "#fdca26"
             ],
             [
              1,
              "#f0f921"
             ]
            ],
            "type": "heatmap"
           }
          ],
          "heatmapgl": [
           {
            "colorbar": {
             "outlinewidth": 0,
             "ticks": ""
            },
            "colorscale": [
             [
              0,
              "#0d0887"
             ],
             [
              0.1111111111111111,
              "#46039f"
             ],
             [
              0.2222222222222222,
              "#7201a8"
             ],
             [
              0.3333333333333333,
              "#9c179e"
             ],
             [
              0.4444444444444444,
              "#bd3786"
             ],
             [
              0.5555555555555556,
              "#d8576b"
             ],
             [
              0.6666666666666666,
              "#ed7953"
             ],
             [
              0.7777777777777778,
              "#fb9f3a"
             ],
             [
              0.8888888888888888,
              "#fdca26"
             ],
             [
              1,
              "#f0f921"
             ]
            ],
            "type": "heatmapgl"
           }
          ],
          "histogram": [
           {
            "marker": {
             "pattern": {
              "fillmode": "overlay",
              "size": 10,
              "solidity": 0.2
             }
            },
            "type": "histogram"
           }
          ],
          "histogram2d": [
           {
            "colorbar": {
             "outlinewidth": 0,
             "ticks": ""
            },
            "colorscale": [
             [
              0,
              "#0d0887"
             ],
             [
              0.1111111111111111,
              "#46039f"
             ],
             [
              0.2222222222222222,
              "#7201a8"
             ],
             [
              0.3333333333333333,
              "#9c179e"
             ],
             [
              0.4444444444444444,
              "#bd3786"
             ],
             [
              0.5555555555555556,
              "#d8576b"
             ],
             [
              0.6666666666666666,
              "#ed7953"
             ],
             [
              0.7777777777777778,
              "#fb9f3a"
             ],
             [
              0.8888888888888888,
              "#fdca26"
             ],
             [
              1,
              "#f0f921"
             ]
            ],
            "type": "histogram2d"
           }
          ],
          "histogram2dcontour": [
           {
            "colorbar": {
             "outlinewidth": 0,
             "ticks": ""
            },
            "colorscale": [
             [
              0,
              "#0d0887"
             ],
             [
              0.1111111111111111,
              "#46039f"
             ],
             [
              0.2222222222222222,
              "#7201a8"
             ],
             [
              0.3333333333333333,
              "#9c179e"
             ],
             [
              0.4444444444444444,
              "#bd3786"
             ],
             [
              0.5555555555555556,
              "#d8576b"
             ],
             [
              0.6666666666666666,
              "#ed7953"
             ],
             [
              0.7777777777777778,
              "#fb9f3a"
             ],
             [
              0.8888888888888888,
              "#fdca26"
             ],
             [
              1,
              "#f0f921"
             ]
            ],
            "type": "histogram2dcontour"
           }
          ],
          "mesh3d": [
           {
            "colorbar": {
             "outlinewidth": 0,
             "ticks": ""
            },
            "type": "mesh3d"
           }
          ],
          "parcoords": [
           {
            "line": {
             "colorbar": {
              "outlinewidth": 0,
              "ticks": ""
             }
            },
            "type": "parcoords"
           }
          ],
          "pie": [
           {
            "automargin": true,
            "type": "pie"
           }
          ],
          "scatter": [
           {
            "fillpattern": {
             "fillmode": "overlay",
             "size": 10,
             "solidity": 0.2
            },
            "type": "scatter"
           }
          ],
          "scatter3d": [
           {
            "line": {
             "colorbar": {
              "outlinewidth": 0,
              "ticks": ""
             }
            },
            "marker": {
             "colorbar": {
              "outlinewidth": 0,
              "ticks": ""
             }
            },
            "type": "scatter3d"
           }
          ],
          "scattercarpet": [
           {
            "marker": {
             "colorbar": {
              "outlinewidth": 0,
              "ticks": ""
             }
            },
            "type": "scattercarpet"
           }
          ],
          "scattergeo": [
           {
            "marker": {
             "colorbar": {
              "outlinewidth": 0,
              "ticks": ""
             }
            },
            "type": "scattergeo"
           }
          ],
          "scattergl": [
           {
            "marker": {
             "colorbar": {
              "outlinewidth": 0,
              "ticks": ""
             }
            },
            "type": "scattergl"
           }
          ],
          "scattermapbox": [
           {
            "marker": {
             "colorbar": {
              "outlinewidth": 0,
              "ticks": ""
             }
            },
            "type": "scattermapbox"
           }
          ],
          "scatterpolar": [
           {
            "marker": {
             "colorbar": {
              "outlinewidth": 0,
              "ticks": ""
             }
            },
            "type": "scatterpolar"
           }
          ],
          "scatterpolargl": [
           {
            "marker": {
             "colorbar": {
              "outlinewidth": 0,
              "ticks": ""
             }
            },
            "type": "scatterpolargl"
           }
          ],
          "scatterternary": [
           {
            "marker": {
             "colorbar": {
              "outlinewidth": 0,
              "ticks": ""
             }
            },
            "type": "scatterternary"
           }
          ],
          "surface": [
           {
            "colorbar": {
             "outlinewidth": 0,
             "ticks": ""
            },
            "colorscale": [
             [
              0,
              "#0d0887"
             ],
             [
              0.1111111111111111,
              "#46039f"
             ],
             [
              0.2222222222222222,
              "#7201a8"
             ],
             [
              0.3333333333333333,
              "#9c179e"
             ],
             [
              0.4444444444444444,
              "#bd3786"
             ],
             [
              0.5555555555555556,
              "#d8576b"
             ],
             [
              0.6666666666666666,
              "#ed7953"
             ],
             [
              0.7777777777777778,
              "#fb9f3a"
             ],
             [
              0.8888888888888888,
              "#fdca26"
             ],
             [
              1,
              "#f0f921"
             ]
            ],
            "type": "surface"
           }
          ],
          "table": [
           {
            "cells": {
             "fill": {
              "color": "#EBF0F8"
             },
             "line": {
              "color": "white"
             }
            },
            "header": {
             "fill": {
              "color": "#C8D4E3"
             },
             "line": {
              "color": "white"
             }
            },
            "type": "table"
           }
          ]
         },
         "layout": {
          "annotationdefaults": {
           "arrowcolor": "#2a3f5f",
           "arrowhead": 0,
           "arrowwidth": 1
          },
          "autotypenumbers": "strict",
          "coloraxis": {
           "colorbar": {
            "outlinewidth": 0,
            "ticks": ""
           }
          },
          "colorscale": {
           "diverging": [
            [
             0,
             "#8e0152"
            ],
            [
             0.1,
             "#c51b7d"
            ],
            [
             0.2,
             "#de77ae"
            ],
            [
             0.3,
             "#f1b6da"
            ],
            [
             0.4,
             "#fde0ef"
            ],
            [
             0.5,
             "#f7f7f7"
            ],
            [
             0.6,
             "#e6f5d0"
            ],
            [
             0.7,
             "#b8e186"
            ],
            [
             0.8,
             "#7fbc41"
            ],
            [
             0.9,
             "#4d9221"
            ],
            [
             1,
             "#276419"
            ]
           ],
           "sequential": [
            [
             0,
             "#0d0887"
            ],
            [
             0.1111111111111111,
             "#46039f"
            ],
            [
             0.2222222222222222,
             "#7201a8"
            ],
            [
             0.3333333333333333,
             "#9c179e"
            ],
            [
             0.4444444444444444,
             "#bd3786"
            ],
            [
             0.5555555555555556,
             "#d8576b"
            ],
            [
             0.6666666666666666,
             "#ed7953"
            ],
            [
             0.7777777777777778,
             "#fb9f3a"
            ],
            [
             0.8888888888888888,
             "#fdca26"
            ],
            [
             1,
             "#f0f921"
            ]
           ],
           "sequentialminus": [
            [
             0,
             "#0d0887"
            ],
            [
             0.1111111111111111,
             "#46039f"
            ],
            [
             0.2222222222222222,
             "#7201a8"
            ],
            [
             0.3333333333333333,
             "#9c179e"
            ],
            [
             0.4444444444444444,
             "#bd3786"
            ],
            [
             0.5555555555555556,
             "#d8576b"
            ],
            [
             0.6666666666666666,
             "#ed7953"
            ],
            [
             0.7777777777777778,
             "#fb9f3a"
            ],
            [
             0.8888888888888888,
             "#fdca26"
            ],
            [
             1,
             "#f0f921"
            ]
           ]
          },
          "colorway": [
           "#636efa",
           "#EF553B",
           "#00cc96",
           "#ab63fa",
           "#FFA15A",
           "#19d3f3",
           "#FF6692",
           "#B6E880",
           "#FF97FF",
           "#FECB52"
          ],
          "font": {
           "color": "#2a3f5f"
          },
          "geo": {
           "bgcolor": "white",
           "lakecolor": "white",
           "landcolor": "#E5ECF6",
           "showlakes": true,
           "showland": true,
           "subunitcolor": "white"
          },
          "hoverlabel": {
           "align": "left"
          },
          "hovermode": "closest",
          "mapbox": {
           "style": "light"
          },
          "paper_bgcolor": "white",
          "plot_bgcolor": "#E5ECF6",
          "polar": {
           "angularaxis": {
            "gridcolor": "white",
            "linecolor": "white",
            "ticks": ""
           },
           "bgcolor": "#E5ECF6",
           "radialaxis": {
            "gridcolor": "white",
            "linecolor": "white",
            "ticks": ""
           }
          },
          "scene": {
           "xaxis": {
            "backgroundcolor": "#E5ECF6",
            "gridcolor": "white",
            "gridwidth": 2,
            "linecolor": "white",
            "showbackground": true,
            "ticks": "",
            "zerolinecolor": "white"
           },
           "yaxis": {
            "backgroundcolor": "#E5ECF6",
            "gridcolor": "white",
            "gridwidth": 2,
            "linecolor": "white",
            "showbackground": true,
            "ticks": "",
            "zerolinecolor": "white"
           },
           "zaxis": {
            "backgroundcolor": "#E5ECF6",
            "gridcolor": "white",
            "gridwidth": 2,
            "linecolor": "white",
            "showbackground": true,
            "ticks": "",
            "zerolinecolor": "white"
           }
          },
          "shapedefaults": {
           "line": {
            "color": "#2a3f5f"
           }
          },
          "ternary": {
           "aaxis": {
            "gridcolor": "white",
            "linecolor": "white",
            "ticks": ""
           },
           "baxis": {
            "gridcolor": "white",
            "linecolor": "white",
            "ticks": ""
           },
           "bgcolor": "#E5ECF6",
           "caxis": {
            "gridcolor": "white",
            "linecolor": "white",
            "ticks": ""
           }
          },
          "title": {
           "x": 0.05
          },
          "xaxis": {
           "automargin": true,
           "gridcolor": "white",
           "linecolor": "white",
           "ticks": "",
           "title": {
            "standoff": 15
           },
           "zerolinecolor": "white",
           "zerolinewidth": 2
          },
          "yaxis": {
           "automargin": true,
           "gridcolor": "white",
           "linecolor": "white",
           "ticks": "",
           "title": {
            "standoff": 15
           },
           "zerolinecolor": "white",
           "zerolinewidth": 2
          }
         }
        }
       }
      }
     },
     "metadata": {},
     "output_type": "display_data"
    }
   ],
   "source": [
    "average_score_all = listings['avg_score_rating']\n",
    "average_score_single = listings_single['avg_score_rating']\n",
    "average_clean_all = listings['review_scores_cleanliness']\n",
    "average_clean_single = listings_single['review_scores_cleanliness']\n",
    "average_checkin_all = listings['review_scores_checkin']\n",
    "average_checkin_single = listings_single['review_scores_checkin']\n",
    "average_comm_all = listings['review_scores_communication']\n",
    "average_comm_single = listings_single['review_scores_communication']\n",
    "average_value_all = listings['review_scores_value']\n",
    "average_value_single = listings_single['review_scores_value']\n",
    "fig = go.Figure()\n",
    "\n",
    "fig.add_trace(go.Bar(\n",
    "    x= ['average rating'],\n",
    "    y=average_score_all,\n",
    "    legendgroup='group',\n",
    "    name=\"Competition\"\n",
    "))\n",
    "\n",
    "fig.add_trace(go.Bar(\n",
    "    x= ['average rating'],\n",
    "    y=average_score_single,\n",
    "    legendgroup='group',\n",
    "    name=\"Host\"\n",
    "))\n",
    "\n",
    "fig.add_trace(go.Bar(\n",
    "    x= ['cleanliness rating'],\n",
    "    y=average_clean_all,\n",
    "    legendgroup='group2',\n",
    "    name=\"Competition\"\n",
    "))\n",
    "\n",
    "fig.add_trace(go.Bar(\n",
    "    x= ['cleanliness rating'],\n",
    "    y=average_clean_single,\n",
    "    legendgroup='group2',\n",
    "    name=\"Host\"\n",
    "))\n",
    "\n",
    "fig.add_trace(go.Bar(\n",
    "    x= ['checkin rating'],\n",
    "    y=average_checkin_all,\n",
    "    legendgroup='group3',\n",
    "    name=\"Competition\"\n",
    "))\n",
    "\n",
    "fig.add_trace(go.Bar(\n",
    "    x= ['checkin rating'],\n",
    "    y=average_checkin_single,\n",
    "    legendgroup='group3',\n",
    "    name=\"Host\"\n",
    "))\n",
    "\n",
    "fig.add_trace(go.Bar(\n",
    "    x= ['communication rating'],\n",
    "    y=average_comm_all,\n",
    "    legendgroup='group4',\n",
    "    name=\"Competition\"\n",
    "))\n",
    "\n",
    "fig.add_trace(go.Bar(\n",
    "    x= ['communication rating'],\n",
    "    y=average_comm_single,\n",
    "    legendgroup='group4',\n",
    "    name=\"Host\"\n",
    "))\n",
    "\n",
    "fig.add_trace(go.Bar(\n",
    "    x= ['value rating'],\n",
    "    y=average_value_all,\n",
    "    legendgroup='group5',\n",
    "    name=\"Competition\"\n",
    "))\n",
    "\n",
    "fig.add_trace(go.Bar(\n",
    "    x= ['value rating'],\n",
    "    y=average_value_single,\n",
    "    legendgroup='group5',\n",
    "    name=\"Host\"\n",
    "))\n",
    "fig.update_layout(barmode='group')\n",
    "fig.update_traces(texttemplate='%{y:.3}', textposition='outside')\n",
    "fig.show()"
   ]
  }
 ],
 "metadata": {
  "kernelspec": {
   "display_name": "Python 3",
   "language": "python",
   "name": "python3"
  },
  "language_info": {
   "codemirror_mode": {
    "name": "ipython",
    "version": 3
   },
   "file_extension": ".py",
   "mimetype": "text/x-python",
   "name": "python",
   "nbconvert_exporter": "python",
   "pygments_lexer": "ipython3",
   "version": "3.10.6"
  },
  "orig_nbformat": 4,
  "vscode": {
   "interpreter": {
    "hash": "52634da84371cba311ea128a5ea7cdc41ff074b781779e754b270ff9f8153cee"
   }
  }
 },
 "nbformat": 4,
 "nbformat_minor": 2
}
