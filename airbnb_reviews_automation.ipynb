{
 "cells": [
  {
   "cell_type": "code",
   "execution_count": 1,
   "metadata": {},
   "outputs": [],
   "source": [
    "import pandas as pd\n",
    "import numpy as np\n",
    "import os\n",
    "import psycopg2"
   ]
  },
  {
   "attachments": {},
   "cell_type": "markdown",
   "metadata": {},
   "source": [
    "### Find CSV files in directory"
   ]
  },
  {
   "cell_type": "code",
   "execution_count": 2,
   "metadata": {},
   "outputs": [],
   "source": [
    "directory = '../airbnb_data_vienna/csv/'\n",
    "\n",
    "def csv_files():\n",
    "    \n",
    "    csv_files = []\n",
    "    for file in os.listdir(directory):\n",
    "        #change if needed for calendar\n",
    "        if file.endswith('.csv') & file.startswith('reviews'):\n",
    "            csv_files.append(file)\n",
    "    return csv_files"
   ]
  },
  {
   "cell_type": "code",
   "execution_count": 3,
   "metadata": {},
   "outputs": [],
   "source": [
    "def dataset_directory(csv_files, data_path):\n",
    "    df = {}\n",
    "    for file in csv_files:\n",
    "        try:\n",
    "            df[file] = pd.read_csv(data_path + file)\n",
    "        except UnicodeDecodeError:\n",
    "            df[file] = pd.read_csv(data_path+file, encoding='ISO-8859-1')\n",
    "        print(file)\n",
    "    return df"
   ]
  },
  {
   "cell_type": "code",
   "execution_count": 4,
   "metadata": {},
   "outputs": [
    {
     "name": "stdout",
     "output_type": "stream",
     "text": [
      "reviews_07_06.csv\n",
      "reviews_10_03.csv\n",
      "reviews_11_09.csv\n"
     ]
    }
   ],
   "source": []
  },
  {
   "cell_type": "code",
   "execution_count": 7,
   "metadata": {},
   "outputs": [],
   "source": [
    "def clean_tbl_name(filename):\n",
    "\n",
    "    clean_tbl_name = filename.lower().replace(\" \", \"_\").replace(\"?\", \"\") \\\n",
    "        .replace(\"-\", \"_\").replace(r\"/\", \"_\").replace(\"\\\\\", \"_\").replace(\"%\", \"\") \\\n",
    "            .replace(\")\", \"\").replace(r\"(\", \"\").replace(\"$\", \"\")\n",
    "\n",
    "    #remove .csv extension from clean_tbl_name\n",
    "    tbl_name = '{0}'.format(clean_tbl_name.split('.')[0])\n",
    "    return tbl_name\n"
   ]
  },
  {
   "cell_type": "code",
   "execution_count": 8,
   "metadata": {},
   "outputs": [],
   "source": [
    " #clean header names, lower case letters, remove all white spaces\n",
    "def clean_colname(dataframe):\n",
    "\n",
    "    dataframe.columns = [x.lower().replace(\" \", \"_\").replace(\"?\", \"\") \\\n",
    "        .replace(\"-\", \"_\").replace(r\"/\", \"_\").replace(\"\\\\\", \"_\").replace(\"%\", \"\") \\\n",
    "            .replace(\")\", \"\").replace(r\"(\", \"\").replace(\"$\", \"\") for x in dataframe.columns]\n",
    "\n",
    "    #replacement dictionairy that maps pandas dtypes to sql types\n",
    "    replacements = {\n",
    "    'object' : 'varchar',\n",
    "    'float64' : 'float',\n",
    "    'int64' : 'int',\n",
    "    'datetime64[ns]' : 'timestamp'\n",
    "    }\n",
    "\n",
    "    #columns for postgres database - table schema\n",
    "    col_str = \", \".join(\"{} {}\".format(n, d) for (n, d) in zip(dataframe.columns, dataframe.dtypes.replace(replacements)))\n",
    "\n",
    "    return col_str, dataframe.columns"
   ]
  },
  {
   "cell_type": "code",
   "execution_count": 15,
   "metadata": {},
   "outputs": [
    {
     "name": "stdout",
     "output_type": "stream",
     "text": [
      "reviews_07_06\n",
      "Opened database successfully\n",
      "reviews_07_06 was created successfully\n",
      "File opened in memory\n",
      "File copied to db\n",
      "Table reviews_07_06 immported to db completed\n",
      "reviews_10_03\n",
      "Opened database successfully\n",
      "reviews_10_03 was created successfully\n",
      "File opened in memory\n",
      "File copied to db\n",
      "Table reviews_10_03 immported to db completed\n",
      "reviews_11_09\n",
      "Opened database successfully\n",
      "reviews_11_09 was created successfully\n",
      "File opened in memory\n",
      "File copied to db\n",
      "Table reviews_11_09 immported to db completed\n",
      "All table have been successfully imported into the db\n"
     ]
    }
   ],
   "source": [
    "def upload_to_db(host, dbname, user, password, tbl_name, col_str, file, dataframe, dataframe_columns):\n",
    "  \n",
    "    conn_string = \"host=%s dbname=%s user=%s password=%s\" % (host, dbname, user, password)\n",
    "    conn = psycopg2.connect(conn_string)\n",
    "    cursor = conn.cursor()\n",
    "    print('Opened database successfully')\n",
    "\n",
    "    #drop tables with the same name\n",
    "    cursor.execute(\"drop table if exists %s;\" % (tbl_name))\n",
    "\n",
    "    #create table\n",
    "    cursor.execute(\"create table %s (%s)\" % (tbl_name, col_str))\n",
    "    print('{0} was created successfully'.format(tbl_name))\n",
    "\n",
    "    #insert value into table\n",
    "\n",
    "    # Save to csv\n",
    "    dataframe.to_csv(file, header=dataframe_columns, index=False, encoding='utf-8')\n",
    "\n",
    "    #open the csv file, save it as an object\n",
    "    reviews_file = open(file, encoding='utf-8')\n",
    "    print('File opened in memory')\n",
    "\n",
    "    # upload to db\n",
    "    sql_query = \"\"\"\n",
    "    COPY %s FROM STDIN WITH\n",
    "        CSV\n",
    "        HEADER\n",
    "        DELIMITER AS ','\n",
    "    \"\"\"\n",
    "    cursor.copy_expert(sql=sql_query % tbl_name, file= reviews_file)\n",
    "    print('File copied to db')\n",
    "\n",
    "    cursor.execute(\"grant select on table %s to public\" % tbl_name)\n",
    "    conn.commit()\n",
    "    cursor.close()\n",
    "    print('Table {0} immported to db completed'.format(tbl_name))"
   ]
  }
 ],
 "metadata": {
  "kernelspec": {
   "display_name": "Python 3",
   "language": "python",
   "name": "python3"
  },
  "language_info": {
   "codemirror_mode": {
    "name": "ipython",
    "version": 3
   },
   "file_extension": ".py",
   "mimetype": "text/x-python",
   "name": "python",
   "nbconvert_exporter": "python",
   "pygments_lexer": "ipython3",
   "version": "3.10.6"
  },
  "orig_nbformat": 4,
  "vscode": {
   "interpreter": {
    "hash": "52634da84371cba311ea128a5ea7cdc41ff074b781779e754b270ff9f8153cee"
   }
  }
 },
 "nbformat": 4,
 "nbformat_minor": 2
}
